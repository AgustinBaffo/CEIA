{
  "nbformat": 4,
  "nbformat_minor": 0,
  "metadata": {
    "interpreter": {
      "hash": "b3ba2566441a7c06988d0923437866b63cedc61552a5af99d1f4fb67d367b25f"
    },
    "kernelspec": {
      "display_name": "Python 3.8.5 64-bit ('base': conda)",
      "name": "python3"
    },
    "language_info": {
      "codemirror_mode": {
        "name": "ipython",
        "version": 3
      },
      "file_extension": ".py",
      "mimetype": "text/x-python",
      "name": "python",
      "nbconvert_exporter": "python",
      "pygments_lexer": "ipython3",
      "version": "3.8.8"
    },
    "colab": {
      "name": "solution.ipynb",
      "provenance": []
    }
  },
  "cells": [
    {
      "cell_type": "code",
      "metadata": {
        "id": "uemsUs7LTm0E"
      },
      "source": [
        "import numpy as np\n",
        "import matplotlib.pyplot as plt\n",
        "\n",
        "import torch\n",
        "import torch.optim as optim\n",
        "from torch.utils.data import Dataset, DataLoader\n",
        "torch.set_printoptions(edgeitems=2, linewidth=75)\n",
        "\n",
        "from sklearn.model_selection import GridSearchCV"
      ],
      "execution_count": 2,
      "outputs": []
    },
    {
      "cell_type": "markdown",
      "metadata": {
        "id": "D_EAigKLQUeS"
      },
      "source": [
        "# Ex1.- Stochastic Gradient Descent"
      ]
    },
    {
      "cell_type": "code",
      "metadata": {
        "id": "pbAqW-YSTkj2"
      },
      "source": [
        "def f(x):\n",
        "  return-((x-2)**2)+3\n",
        "  \n",
        "def df(x):\n",
        "  return -2*(x-2)"
      ],
      "execution_count": 3,
      "outputs": []
    },
    {
      "cell_type": "code",
      "metadata": {
        "id": "32kYWaHPTifs",
        "outputId": "adfed6ea-40a2-4a0d-f57a-e349f16754bb",
        "colab": {
          "base_uri": "https://localhost:8080/"
        }
      },
      "source": [
        "tol = 0.000001\n",
        "x = np.random.rand()*10\n",
        "diff=1\n",
        "alpha=0.001\n",
        "\n",
        "while(diff>tol):\n",
        "   x_new = x + alpha*df(x) \n",
        "   diff= np.abs(x-x_new)\n",
        "   x=x_new\n",
        "   # print(\"err=\"+str(diff))\n",
        "print(\"x=\"+str(x))\n",
        "print(\"y=\"+str(f(x)))"
      ],
      "execution_count": 4,
      "outputs": [
        {
          "output_type": "stream",
          "name": "stdout",
          "text": [
            "x=2.000498800458012\n",
            "y=2.999999751198103\n"
          ]
        }
      ]
    },
    {
      "cell_type": "markdown",
      "metadata": {
        "id": "QHLH031zQ3F3"
      },
      "source": [
        "# Ex2.- Backpropagation y chain rule"
      ]
    },
    {
      "cell_type": "code",
      "metadata": {
        "id": "gdcsDXNDTriI"
      },
      "source": [
        ""
      ],
      "execution_count": null,
      "outputs": []
    },
    {
      "cell_type": "markdown",
      "metadata": {
        "id": "CS7hJEOAQ6_l"
      },
      "source": [
        "# Ex3.- Deep Learning and regularization"
      ]
    },
    {
      "cell_type": "markdown",
      "metadata": {
        "id": "N0sEBVivvC39"
      },
      "source": [
        "## Create Dataset"
      ]
    },
    {
      "cell_type": "code",
      "metadata": {
        "id": "p4C9lsNdzzhT"
      },
      "source": [
        "class Data(Dataset):\n",
        "    def __init__(self):\n",
        "        self.x = torch.linspace(-20, 20, 10000).view(-1,1)\n",
        "        self.len = self.x.shape[0]\n",
        "\n",
        "        self.n = torch.empty(self.len).normal_(mean=0,std=0.2).view(-1,1)\n",
        "        \n",
        "        self.y = torch.mul(torch.pow(self.x, 2),3)\n",
        "        self.y.add_(3)\n",
        "        self.y.add_(self.n)\n",
        "\n",
        "    def __getitem__(self,index):\n",
        "        return self.x[index],self.y[index]\n",
        "\n",
        "    def __len__(self):\n",
        "        return self.len"
      ],
      "execution_count": null,
      "outputs": []
    },
    {
      "cell_type": "code",
      "metadata": {
        "colab": {
          "base_uri": "https://localhost:8080/",
          "height": 282
        },
        "id": "JdcHqjBU1fyE",
        "outputId": "553a24e5-7884-448e-d4fa-c64d920aaee0"
      },
      "source": [
        "data=Data()\n",
        "plt.plot(data[0],data[1])"
      ],
      "execution_count": null,
      "outputs": [
        {
          "output_type": "execute_result",
          "data": {
            "text/plain": [
              "[<matplotlib.lines.Line2D at 0x7f9818212bd0>]"
            ]
          },
          "metadata": {},
          "execution_count": 3
        },
        {
          "output_type": "display_data",
          "data": {
            "image/png": "[encoded data removed]",
            "text/plain": [
              "<Figure size 432x288 with 1 Axes>"
            ]
          },
          "metadata": {
            "needs_background": "light"
          }
        }
      ]
    },
    {
      "cell_type": "code",
      "metadata": {
        "id": "Tqbk3i_cQieE"
      },
      "source": [
        "def create_datset():\n",
        "  x = np.random.uniform(0,20,10000)\n",
        "  N = np.random.normal(0,0.2)\n",
        "  y = np.power((x-2),2)*+3+N\n",
        "  return np.array([x,y])\n",
        "\n",
        "def split(data,p_train=.80,p_val=.10):\n",
        "  len_train=int(data.shape[1]*p_train)\n",
        "  len_val=int(data.shape[1]*p_val)\n",
        "  np.random.shuffle(data.T)\n",
        "\n",
        "  x_train = np.array(data[0,0:len_train]) \n",
        "  y_train = np.array(data[1,0:len_train])\n",
        "  x_val = np.array(data[0,len_train:len_train+len_val]) \n",
        "  y_val = np.array(data[1,len_train:len_train+len_val])\n",
        "  x_test = np.array(data[0,len_train+len_val:int(data.shape[1])]) \n",
        "  y_test = np.array(data[1,len_train+len_val:int(data.shape[1])])\n",
        "\n",
        "  return x_train, y_train, x_val, y_val, x_test, y_test"
      ],
      "execution_count": null,
      "outputs": []
    },
    {
      "cell_type": "code",
      "metadata": {
        "colab": {
          "base_uri": "https://localhost:8080/",
          "height": 349
        },
        "id": "5jK-W4qYRCfu",
        "outputId": "a060b136-8c1c-4970-ab5d-9cda4f6a2779"
      },
      "source": [
        "data=create_datset()\n",
        "x_train, y_train, x_val, y_val, x_test, y_test = split(data,p_val=0)\n",
        "\n",
        "print(\"Test, Val, Test:\")\n",
        "print(x_train.shape, y_train.shape)\n",
        "print(x_val.shape, x_val.shape)\n",
        "print(x_test.shape, y_test.shape)\n",
        "plt.plot(x_train,y_train)"
      ],
      "execution_count": null,
      "outputs": [
        {
          "output_type": "stream",
          "name": "stdout",
          "text": [
            "Test, Val, Test:\n",
            "(8000,) (8000,)\n",
            "(0,) (0,)\n",
            "(2000,) (2000,)\n"
          ]
        },
        {
          "output_type": "execute_result",
          "data": {
            "text/plain": [
              "[<matplotlib.lines.Line2D at 0x7f9818212d90>]"
            ]
          },
          "metadata": {},
          "execution_count": 5
        },
        {
          "output_type": "display_data",
          "data": {
            "image/png": "[encoded data removed]",
            "text/plain": [
              "<Figure size 432x288 with 1 Axes>"
            ]
          },
          "metadata": {
            "needs_background": "light"
          }
        }
      ]
    },
    {
      "cell_type": "markdown",
      "metadata": {
        "id": "LjTTwTdKvaZR"
      },
      "source": [
        "## Define first model \n",
        "y = w1\\*x^2 + w2\\*x + w3"
      ]
    },
    {
      "cell_type": "code",
      "metadata": {
        "id": "ptmSFJzEXqdJ"
      },
      "source": [
        "def model(t_u, w):\n",
        "  return w[0] * t_u**2 + w[1] * t_u + w[2]\n",
        "\n",
        "def loss_fn(t_p, t_c):\n",
        "  squared_diffs = (t_p - t_c)**2\n",
        "  return squared_diffs.mean()"
      ],
      "execution_count": null,
      "outputs": []
    },
    {
      "cell_type": "code",
      "metadata": {
        "id": "Aeo7B2e_bsV_"
      },
      "source": [
        "t_u = torch.from_numpy(x_train)\n",
        "t_c = torch.from_numpy(y_train)"
      ],
      "execution_count": null,
      "outputs": []
    },
    {
      "cell_type": "code",
      "metadata": {
        "id": "t8-e1W5tY_aT"
      },
      "source": [
        "## Run once\n",
        "# params = torch.tensor([1.0, 1.0, 0.0], requires_grad=True)\n",
        "# learning_rate = 1e-5\n",
        "# optimizer = optim.SGD([params], lr=learning_rate)\n",
        "\n",
        "# t_p = model(t_u, params)\n",
        "# loss = loss_fn(t_p, t_c)\n",
        "# loss.backward()\n",
        "\n",
        "# optimizer.step()\n",
        "\n",
        "# params"
      ],
      "execution_count": null,
      "outputs": []
    },
    {
      "cell_type": "code",
      "metadata": {
        "id": "DSs1gURrcGEs"
      },
      "source": [
        "def training_loop(n_epochs, optimizer, params, t_u, t_c):\n",
        "    for epoch in range(1, n_epochs + 1):\n",
        "        t_p = model(t_u, params)\n",
        "        loss = loss_fn(t_p, t_c)\n",
        "        \n",
        "        optimizer.zero_grad()\n",
        "        loss.backward()\n",
        "        optimizer.step()\n",
        "\n",
        "        if epoch % 500 == 0:\n",
        "            print('Epoch %d, Loss %f' % (epoch, float(loss)))\n",
        "            \n",
        "    return params"
      ],
      "execution_count": null,
      "outputs": []
    },
    {
      "cell_type": "code",
      "metadata": {
        "colab": {
          "base_uri": "https://localhost:8080/"
        },
        "id": "O8GxA9r-cqRQ",
        "outputId": "8084c8b5-cc1a-49bd-fb19-c96177043b29"
      },
      "source": [
        "params = torch.tensor([1.0, 1.0, 0.0], requires_grad=True)\n",
        "learning_rate = 1e-5\n",
        "optimizer = optim.SGD([params], lr=learning_rate)\n",
        "\n",
        "weighs = training_loop(\n",
        "          n_epochs = 10000, \n",
        "          optimizer = optimizer,\n",
        "          params = params,\n",
        "          t_u = t_u,\n",
        "          t_c = t_c)"
      ],
      "execution_count": null,
      "outputs": [
        {
          "output_type": "stream",
          "name": "stdout",
          "text": [
            "Epoch 500, Loss 799.905360\n",
            "Epoch 1000, Loss 678.402005\n",
            "Epoch 1500, Loss 575.881725\n",
            "Epoch 2000, Loss 489.377726\n",
            "Epoch 2500, Loss 416.386646\n",
            "Epoch 3000, Loss 354.796528\n",
            "Epoch 3500, Loss 302.825271\n",
            "Epoch 4000, Loss 258.969559\n",
            "Epoch 4500, Loss 221.961039\n",
            "Epoch 5000, Loss 190.729466\n",
            "Epoch 5500, Loss 164.372121\n",
            "Epoch 6000, Loss 142.126831\n",
            "Epoch 6500, Loss 123.351067\n",
            "Epoch 7000, Loss 107.502693\n",
            "Epoch 7500, Loss 94.123951\n",
            "Epoch 8000, Loss 82.829147\n",
            "Epoch 8500, Loss 73.292237\n",
            "Epoch 9000, Loss 65.238721\n",
            "Epoch 9500, Loss 58.436705\n",
            "Epoch 10000, Loss 52.690533\n"
          ]
        }
      ]
    },
    {
      "cell_type": "code",
      "metadata": {
        "colab": {
          "base_uri": "https://localhost:8080/"
        },
        "id": "zU3-2LJ2d799",
        "outputId": "4f13b601-958c-47fa-8292-9651c375e2b3"
      },
      "source": [
        "params = torch.tensor([1.0, 1.0, 0.0], requires_grad=True)\n",
        "learning_rate = 1e-1\n",
        "optimizer = optim.Adam([params], lr=learning_rate)\n",
        "weighs = training_loop(\n",
        "          n_epochs = 4000, \n",
        "          optimizer = optimizer,\n",
        "          params = params,\n",
        "          t_u = t_u,\n",
        "          t_c = t_c)"
      ],
      "execution_count": null,
      "outputs": [
        {
          "output_type": "stream",
          "name": "stdout",
          "text": [
            "Epoch 500, Loss 122.695032\n",
            "Epoch 1000, Loss 56.359671\n",
            "Epoch 1500, Loss 25.071141\n",
            "Epoch 2000, Loss 8.191044\n",
            "Epoch 2500, Loss 1.832512\n",
            "Epoch 3000, Loss 0.254415\n",
            "Epoch 3500, Loss 0.019198\n",
            "Epoch 4000, Loss 0.000660\n"
          ]
        }
      ]
    },
    {
      "cell_type": "code",
      "metadata": {
        "id": "mtE_1LcMc1HI"
      },
      "source": [
        "def calc_forward(t_u, t_c, params, is_train):\n",
        "    with torch.set_grad_enabled(is_train):\n",
        "        t_p = model(t_u, params)\n",
        "        loss = loss_fn(t_p, t_c)\n",
        "    return loss"
      ],
      "execution_count": null,
      "outputs": []
    },
    {
      "cell_type": "code",
      "metadata": {
        "colab": {
          "base_uri": "https://localhost:8080/"
        },
        "id": "McjxZuWNfNtz",
        "outputId": "827d28ac-d5a8-4145-b311-b6fbcd2aac8e"
      },
      "source": [
        "t_u_test = torch.from_numpy(x_test)\n",
        "t_c_test = torch.from_numpy(y_test)\n",
        "\n",
        "calc_forward(t_u_test,t_c_test,weighs,is_train=False)"
      ],
      "execution_count": null,
      "outputs": [
        {
          "output_type": "execute_result",
          "data": {
            "text/plain": [
              "tensor(0.0007, dtype=torch.float64)"
            ]
          },
          "metadata": {},
          "execution_count": 13
        }
      ]
    },
    {
      "cell_type": "markdown",
      "metadata": {
        "id": "Spk37EBMgG2F"
      },
      "source": [
        "### Use gridsearch to find hyperparameters\n"
      ]
    },
    {
      "cell_type": "code",
      "metadata": {
        "colab": {
          "base_uri": "https://localhost:8080/",
          "height": 337
        },
        "id": "w9ZPTLZYw26a",
        "outputId": "f5708b9b-bf98-4328-de60-84a653701dd4"
      },
      "source": [
        "params = {\n",
        "    'lr': [0.0001, 0.001, 0.01, 0.1, 1.]\n",
        "    # 'max_epochs': list(range(1000, 10000, 1000))\n",
        "    # 'optimizer': [optim.SGD([params], lr=learning_rate), optim.Adam([params], lr=learning_rate)]\n",
        "}\n",
        "\n",
        "gs = GridSearchCV(model, params, refit=False, verbose=1, cv=10)\n",
        "\n",
        "gs.fit(t_u, t_c)"
      ],
      "execution_count": null,
      "outputs": [
        {
          "output_type": "error",
          "ename": "TypeError",
          "evalue": "ignored",
          "traceback": [
            "\u001b[0;31m---------------------------------------------------------------------------\u001b[0m",
            "\u001b[0;31mTypeError\u001b[0m                                 Traceback (most recent call last)",
            "\u001b[0;32m<ipython-input-14-92c2b1df3c34>\u001b[0m in \u001b[0;36m<module>\u001b[0;34m()\u001b[0m\n\u001b[1;32m      7\u001b[0m \u001b[0mgs\u001b[0m \u001b[0;34m=\u001b[0m \u001b[0mGridSearchCV\u001b[0m\u001b[0;34m(\u001b[0m\u001b[0mmodel\u001b[0m\u001b[0;34m,\u001b[0m \u001b[0mparams\u001b[0m\u001b[0;34m,\u001b[0m \u001b[0mrefit\u001b[0m\u001b[0;34m=\u001b[0m\u001b[0;32mFalse\u001b[0m\u001b[0;34m,\u001b[0m \u001b[0mverbose\u001b[0m\u001b[0;34m=\u001b[0m\u001b[0;36m1\u001b[0m\u001b[0;34m,\u001b[0m \u001b[0mcv\u001b[0m\u001b[0;34m=\u001b[0m\u001b[0;36m10\u001b[0m\u001b[0;34m)\u001b[0m\u001b[0;34m\u001b[0m\u001b[0;34m\u001b[0m\u001b[0m\n\u001b[1;32m      8\u001b[0m \u001b[0;34m\u001b[0m\u001b[0m\n\u001b[0;32m----> 9\u001b[0;31m \u001b[0mgs\u001b[0m\u001b[0;34m.\u001b[0m\u001b[0mfit\u001b[0m\u001b[0;34m(\u001b[0m\u001b[0mt_u\u001b[0m\u001b[0;34m,\u001b[0m \u001b[0mt_c\u001b[0m\u001b[0;34m)\u001b[0m\u001b[0;34m\u001b[0m\u001b[0;34m\u001b[0m\u001b[0m\n\u001b[0m",
            "\u001b[0;32m/usr/local/lib/python3.7/dist-packages/sklearn/model_selection/_search.py\u001b[0m in \u001b[0;36mfit\u001b[0;34m(self, X, y, groups, **fit_params)\u001b[0m\n\u001b[1;32m    791\u001b[0m             \u001b[0mscorers\u001b[0m \u001b[0;34m=\u001b[0m \u001b[0mself\u001b[0m\u001b[0;34m.\u001b[0m\u001b[0mscoring\u001b[0m\u001b[0;34m\u001b[0m\u001b[0;34m\u001b[0m\u001b[0m\n\u001b[1;32m    792\u001b[0m         \u001b[0;32melif\u001b[0m \u001b[0mself\u001b[0m\u001b[0;34m.\u001b[0m\u001b[0mscoring\u001b[0m \u001b[0;32mis\u001b[0m \u001b[0;32mNone\u001b[0m \u001b[0;32mor\u001b[0m \u001b[0misinstance\u001b[0m\u001b[0;34m(\u001b[0m\u001b[0mself\u001b[0m\u001b[0;34m.\u001b[0m\u001b[0mscoring\u001b[0m\u001b[0;34m,\u001b[0m \u001b[0mstr\u001b[0m\u001b[0;34m)\u001b[0m\u001b[0;34m:\u001b[0m\u001b[0;34m\u001b[0m\u001b[0;34m\u001b[0m\u001b[0m\n\u001b[0;32m--> 793\u001b[0;31m             \u001b[0mscorers\u001b[0m \u001b[0;34m=\u001b[0m \u001b[0mcheck_scoring\u001b[0m\u001b[0;34m(\u001b[0m\u001b[0mself\u001b[0m\u001b[0;34m.\u001b[0m\u001b[0mestimator\u001b[0m\u001b[0;34m,\u001b[0m \u001b[0mself\u001b[0m\u001b[0;34m.\u001b[0m\u001b[0mscoring\u001b[0m\u001b[0;34m)\u001b[0m\u001b[0;34m\u001b[0m\u001b[0;34m\u001b[0m\u001b[0m\n\u001b[0m\u001b[1;32m    794\u001b[0m         \u001b[0;32melse\u001b[0m\u001b[0;34m:\u001b[0m\u001b[0;34m\u001b[0m\u001b[0;34m\u001b[0m\u001b[0m\n\u001b[1;32m    795\u001b[0m             \u001b[0mscorers\u001b[0m \u001b[0;34m=\u001b[0m \u001b[0m_check_multimetric_scoring\u001b[0m\u001b[0;34m(\u001b[0m\u001b[0mself\u001b[0m\u001b[0;34m.\u001b[0m\u001b[0mestimator\u001b[0m\u001b[0;34m,\u001b[0m \u001b[0mself\u001b[0m\u001b[0;34m.\u001b[0m\u001b[0mscoring\u001b[0m\u001b[0;34m)\u001b[0m\u001b[0;34m\u001b[0m\u001b[0;34m\u001b[0m\u001b[0m\n",
            "\u001b[0;32m/usr/local/lib/python3.7/dist-packages/sklearn/metrics/_scorer.py\u001b[0m in \u001b[0;36mcheck_scoring\u001b[0;34m(estimator, scoring, allow_none)\u001b[0m\n\u001b[1;32m    448\u001b[0m         raise TypeError(\n\u001b[1;32m    449\u001b[0m             \u001b[0;34m\"estimator should be an estimator implementing 'fit' method, %r was passed\"\u001b[0m\u001b[0;34m\u001b[0m\u001b[0;34m\u001b[0m\u001b[0m\n\u001b[0;32m--> 450\u001b[0;31m             \u001b[0;34m%\u001b[0m \u001b[0mestimator\u001b[0m\u001b[0;34m\u001b[0m\u001b[0;34m\u001b[0m\u001b[0m\n\u001b[0m\u001b[1;32m    451\u001b[0m         )\n\u001b[1;32m    452\u001b[0m     \u001b[0;32mif\u001b[0m \u001b[0misinstance\u001b[0m\u001b[0;34m(\u001b[0m\u001b[0mscoring\u001b[0m\u001b[0;34m,\u001b[0m \u001b[0mstr\u001b[0m\u001b[0;34m)\u001b[0m\u001b[0;34m:\u001b[0m\u001b[0;34m\u001b[0m\u001b[0;34m\u001b[0m\u001b[0m\n",
            "\u001b[0;31mTypeError\u001b[0m: estimator should be an estimator implementing 'fit' method, <function model at 0x7f9817cca3b0> was passed"
          ]
        }
      ]
    },
    {
      "cell_type": "markdown",
      "metadata": {
        "id": "xBivE6rFzGGl"
      },
      "source": [
        "## Function approximation using neural networks"
      ]
    },
    {
      "cell_type": "code",
      "metadata": {
        "id": "hQ5XF2YkzkiG"
      },
      "source": [
        ""
      ],
      "execution_count": null,
      "outputs": []
    }
  ]
}