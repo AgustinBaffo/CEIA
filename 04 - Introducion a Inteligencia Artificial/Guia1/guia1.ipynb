{
 "cells": [
  {
   "cell_type": "code",
   "execution_count": 1,
   "metadata": {},
   "outputs": [],
   "source": [
    "import numpy as np\n",
    "from matplotlib.cm import ScalarMappable\n",
    "import matplotlib.pyplot as plt\n",
    "import pickle\n",
    "import csv"
   ]
  },
  {
   "cell_type": "markdown",
   "metadata": {},
   "source": [
    "### Ejercicio 1: Operaciones Matriciales"
   ]
  },
  {
   "cell_type": "code",
   "execution_count": 2,
   "metadata": {},
   "outputs": [],
   "source": [
    "def norm_l0(X):\n",
    "    return np.sum(X!=0, axis=1)\n",
    "\n",
    "def norm_lp(X,p):\n",
    "    return (np.sum(np.abs(X**p), axis=1)** 1/p)\n",
    "    \n",
    "def norm_linf(X):\n",
    "    return np.max(X, axis=1)"
   ]
  },
  {
   "cell_type": "code",
   "execution_count": 3,
   "metadata": {
    "scrolled": true
   },
   "outputs": [
    {
     "name": "stdout",
     "output_type": "stream",
     "text": [
      "matrix = \n",
      "[[7 1 6 4 1 6 7 1 8 5]\n",
      " [2 3 9 4 5 1 9 5 3 7]\n",
      " [6 4 5 1 1 1 7 4 5 5]\n",
      " [1 8 4 2 3 8 9 2 2 5]\n",
      " [5 4 8 6 7 2 9 4 6 1]]\n",
      "\n",
      "norm_l0 = [10 10 10 10 10]\n",
      "\n",
      "norm_l1 = [46. 48. 39. 44. 52.]\n",
      "\n",
      "norm_l2 = [139.  150.   97.5 136.  164. ]\n",
      "\n",
      "norm_l-inf = [8 9 7 9 9]\n"
     ]
    }
   ],
   "source": [
    "a = np.random.randint(low=0, high=10, size=(5,10), dtype=int)\n",
    "print(\"matrix = \\n\"+str(a))\n",
    "print(\"\\nnorm_l0 = \" +str(norm_l0(a)))\n",
    "print(\"\\nnorm_l1 = \" +str(norm_lp(a,1)))\n",
    "print(\"\\nnorm_l2 = \" +str(norm_lp(a,2)))\n",
    "print(\"\\nnorm_l-inf = \" +str(norm_linf(a)))"
   ]
  },
  {
   "cell_type": "markdown",
   "metadata": {},
   "source": [
    "### Ejercicio 2: Sorting"
   ]
  },
  {
   "cell_type": "code",
   "execution_count": 4,
   "metadata": {},
   "outputs": [
    {
     "name": "stdout",
     "output_type": "stream",
     "text": [
      "matrix = \n",
      "[[5 3 1 0 4 3 7 6 7 9]\n",
      " [6 1 3 0 8 9 3 4 6 1]\n",
      " [7 9 0 4 1 6 7 9 9 4]\n",
      " [7 9 4 2 4 2 3 6 3 7]\n",
      " [1 9 9 6 2 0 0 0 2 2]]\n",
      "\n",
      "norm_l2 = [137.5 126.5 205.  136.5 105.5]\n",
      "\n",
      "nsorted matrix = [[7 9 0 4 1 6 7 9 9 4]\n",
      " [5 3 1 0 4 3 7 6 7 9]\n",
      " [7 9 4 2 4 2 3 6 3 7]\n",
      " [6 1 3 0 8 9 3 4 6 1]\n",
      " [1 9 9 6 2 0 0 0 2 2]]\n"
     ]
    }
   ],
   "source": [
    "a = np.random.randint(low=0, high=10, size=(5,10), dtype=int)\n",
    "l2 = norm_lp(a,2)\n",
    "# l2_sorted = np.sort(l2)[::-1]\n",
    "arg_sort = np.argsort(-l2) # If you negate an array, the lowest elements become the highest elements and vice-versa.\n",
    "a_sorted = a[arg_sort,:]\n",
    "\n",
    "print(\"matrix = \\n\"+str(a))\n",
    "print(\"\\nnorm_l2 = \" +str(l2))\n",
    "print(\"\\nnsorted matrix = \" +str(a_sorted))"
   ]
  },
  {
   "cell_type": "markdown",
   "metadata": {},
   "source": [
    "### Ejercicio 3: Indexing"
   ]
  },
  {
   "cell_type": "code",
   "execution_count": 5,
   "metadata": {},
   "outputs": [],
   "source": [
    "class Indexing():\n",
    "    def __init__(self, ids):        \n",
    "        self.users_id = ids\n",
    "        self.users_cant = len(ids)\n",
    "        self.users_index = np.arange(self.users_cant)\n",
    "        \n",
    "    def get_users_id(self, indx):\n",
    "        if indx>=0 and indx<self.users_cant:\n",
    "            return self.users_id[indx]\n",
    "        return -1\n",
    "    \n",
    "    def get_users_idx(self, id):\n",
    "        if(np.isin(id, self.users_id)):\n",
    "            return np.where(self.users_id==id)[0][0]\n",
    "        return -1"
   ]
  },
  {
   "cell_type": "code",
   "execution_count": 6,
   "metadata": {},
   "outputs": [
    {
     "name": "stdout",
     "output_type": "stream",
     "text": [
      "get_users_id(3) = 10\n",
      "get_users_id(40) = -1\n",
      "get_users_idx(10) = 3\n",
      "get_users_idx(100) = -1\n"
     ]
    }
   ],
   "source": [
    "users_id = np.array([15, 12, 14, 10, 1, 2, 1, 3])\n",
    "indexing = Indexing(users_id)\n",
    "\n",
    "print(\"get_users_id(3) = \"+str(indexing.get_users_id(3)))\n",
    "print(\"get_users_id(40) = \"+str(indexing.get_users_id(40)))\n",
    "print(\"get_users_idx(10) = \"+str(indexing.get_users_idx(10)))\n",
    "print(\"get_users_idx(100) = \"+str(indexing.get_users_idx(100)))"
   ]
  },
  {
   "cell_type": "markdown",
   "metadata": {},
   "source": [
    "### Ejercicio 4: Precision, Recall, Accuracy"
   ]
  },
  {
   "cell_type": "code",
   "execution_count": 7,
   "metadata": {},
   "outputs": [
    {
     "name": "stdout",
     "output_type": "stream",
     "text": [
      "precision = 0.5\n",
      "recall = 0.5\n",
      "accuracy = 0.4\n",
      "accuracy2 = 0.4\n"
     ]
    }
   ],
   "source": [
    "import numpy as np\n",
    "\n",
    "def get_tp(truth,pred):\n",
    "    return np.sum((truth==1)*(pred==1))\n",
    "\n",
    "def get_tn(truth,pred):\n",
    "    return np.sum((truth==0)*(pred==0))\n",
    "    \n",
    "def get_fn(truth,pred):\n",
    "    return np.sum((truth==1)*(pred==0))\n",
    "\n",
    "def get_fp(truth,pred):\n",
    "    return np.sum((truth==0)*(pred==1))\n",
    "\n",
    "def precision(truth,pred):\n",
    "    tp = get_tp(truth,pred)\n",
    "    fp = get_fp(truth,pred)\n",
    "    return tp / (tp + fp)\n",
    "\n",
    "def recall(truth,pred):\n",
    "    tp = get_tp(truth,pred)\n",
    "    fn = get_fn(truth,pred)\n",
    "    return tp / (tp + fn)\n",
    "\n",
    "def accuracy2(truth,pred):\n",
    "    tp = get_tp(truth,pred)\n",
    "    tn = get_tn(truth,pred)\n",
    "    fp = get_fp(truth,pred)\n",
    "    fn = get_fn(truth,pred)\n",
    "    return (tp + tn) / (tp + tn + fp + fn)\n",
    "\n",
    "def accuracy(truth,pred):\n",
    "    return np.sum(truth==pred) / truth.shape[0]\n",
    "\n",
    "truth = np.array([1,1,0,1,1,1,0,0,0,1])\n",
    "prediction = np.array([1,1,1,1,0,0,1,1,0,0])\n",
    "\n",
    "print('precision = ' + str(precision(truth,prediction)))\n",
    "print('recall = ' + str(recall(truth,prediction)))\n",
    "print('accuracy = ' + str(accuracy(truth,prediction)))\n",
    "print('accuracy2 = ' + str(accuracy2(truth,prediction)))"
   ]
  },
  {
   "cell_type": "markdown",
   "metadata": {},
   "source": [
    "### Ejercicio 5: Average Query Precision"
   ]
  },
  {
   "cell_type": "code",
   "execution_count": 8,
   "metadata": {},
   "outputs": [],
   "source": [
    "def average_query_precision(q_id,truth_relevance):\n",
    "    unique_id = np.unique(q_id)\n",
    "    \n",
    "    # Get ID count for true cases\n",
    "    true_id = q_id[truth_relevance]\n",
    "    truth_by_id = np.bincount(true_id)[unique_id]\n",
    "    \n",
    "    # Get True cases count by id\n",
    "    total_by_id = np.bincount(q_id)[unique_id]\n",
    "    \n",
    "    return np.mean((truth_by_id/total_by_id))"
   ]
  },
  {
   "cell_type": "code",
   "execution_count": 9,
   "metadata": {},
   "outputs": [
    {
     "name": "stdout",
     "output_type": "stream",
     "text": [
      "average query precision = 0.5\n"
     ]
    }
   ],
   "source": [
    "q_id =             np.array([1, 1, 1, 1, 2, 2, 2, 3, 3, 3, 3, 3, 4, 4, 4, 4])\n",
    "predicted_rank =   np.array([0, 1, 2, 3, 0, 1, 2, 0, 1, 2, 3, 4, 0, 1, 2, 3])\n",
    "truth_relevance =  np.array([True, False, True, False, True, True, True, False, \n",
    "                    False, False, False, False, True, False, False, True])\n",
    "\n",
    "print(\"average query precision = \"+str(average_query_precision(q_id,truth_relevance)))"
   ]
  },
  {
   "cell_type": "markdown",
   "metadata": {},
   "source": [
    "### Ejercicio 6: Distancia a Centroides"
   ]
  },
  {
   "cell_type": "code",
   "execution_count": 10,
   "metadata": {},
   "outputs": [
    {
     "name": "stdout",
     "output_type": "stream",
     "text": [
      "\n",
      "Dist = [3.60555128 2.44948974]\n"
     ]
    }
   ],
   "source": [
    "# Ejemplo para un solo punto (sin expandir C)\n",
    "x = np.array([1, 2, 3])\n",
    "c = np.array([[1, 0, 0], [0, 1, 1]])\n",
    "dist = np.sqrt(np.sum((x-c)**2,axis=1))\n",
    "print(\"\\nDist = \"+str(dist))"
   ]
  },
  {
   "cell_type": "code",
   "execution_count": 11,
   "metadata": {},
   "outputs": [],
   "source": [
    "def get_dist(X,C):\n",
    "    C_exp = C[:, None]\n",
    "    return np.sqrt(np.sum((X-C_exp)**2,axis=2))"
   ]
  },
  {
   "cell_type": "code",
   "execution_count": 12,
   "metadata": {},
   "outputs": [
    {
     "name": "stdout",
     "output_type": "stream",
     "text": [
      "Broadcasting:\n",
      "C_exp.shape = \t\t(2, 1, 3)\n",
      "X.shape = \t\t   (3, 3)\n",
      "(X-C_exp).shape = \t(2, 3, 3)\n",
      "\n",
      "Distances: \n",
      " C0 = [ 3.60555128  8.36660027 13.45362405]\n",
      " C1 = [ 2.44948974  7.54983444 12.72792206]\n"
     ]
    }
   ],
   "source": [
    "X = np.array([[1, 2, 3], [4, 5, 6], [7, 8, 9]])\n",
    "C = np.array([[1, 0, 0], [0, 1, 1]])\n",
    "dist = get_dist(X,C)\n",
    "\n",
    "print(\"Broadcasting:\")\n",
    "print(\"C_exp.shape = \\t\\t\"+str(C[:, None].shape))\n",
    "print(\"X.shape = \\t\\t   \"+str(X.shape))\n",
    "print(\"(X-C_exp).shape = \\t\"+str((X-C[:, None]).shape))\n",
    "print(\"\\nDistances: \\n C0 = \"+str(dist[0])+\"\\n C1 = \"+str(dist[1]))"
   ]
  },
  {
   "cell_type": "markdown",
   "metadata": {},
   "source": [
    "### Ejercicio 7: Etiquetar Cluster"
   ]
  },
  {
   "cell_type": "code",
   "execution_count": 13,
   "metadata": {},
   "outputs": [],
   "source": [
    "def get_cluster(X,C):\n",
    "    dist = get_dist(X,C)\n",
    "    return np.argmin(dist,axis=0)"
   ]
  },
  {
   "cell_type": "code",
   "execution_count": 14,
   "metadata": {},
   "outputs": [
    {
     "name": "stdout",
     "output_type": "stream",
     "text": [
      "Clusters = [1 1 1]\n"
     ]
    }
   ],
   "source": [
    "print(\"Clusters = \"+str(get_cluster(X,C)))"
   ]
  },
  {
   "cell_type": "markdown",
   "metadata": {},
   "source": [
    "### Ejercicio 8: Implementación Básica de K-means"
   ]
  },
  {
   "cell_type": "code",
   "execution_count": 15,
   "metadata": {},
   "outputs": [],
   "source": [
    "def get_centroids(X,C,clusters):\n",
    "    for i in range(C.shape[0]):\n",
    "        C[i] = np.mean(X[clusters==i],axis=0)\n",
    "    return C\n",
    "    \n",
    "def kmeans(X,n,iterations=1000):\n",
    "    # Init centroids from random elements of X\n",
    "    C = X[np.random.choice(X.shape[0], n, replace=False), :]\n",
    "        \n",
    "    # Iteration\n",
    "    for i in range(iterations):\n",
    "        clusters = get_cluster(X,C)\n",
    "        C = get_centroids(X,C,clusters)\n",
    "        \n",
    "    return C, clusters"
   ]
  },
  {
   "cell_type": "code",
   "execution_count": 16,
   "metadata": {},
   "outputs": [
    {
     "name": "stdout",
     "output_type": "stream",
     "text": [
      "Centroids = \n",
      "[[74.74710801 32.42559672]\n",
      " [50.9469129  78.53968801]\n",
      " [21.23253415 27.93272577]]\n",
      "\n",
      "Clusters = \n",
      "[0 1 2 0 2 2 1 2 0 1 1 2 1 2 2 1 1 0 0 2 0 1 0 0 1 0 1 1 1 2 2 1 1 0 2 1 2\n",
      " 2 1 2 2 2 1 1 0 1 0 0 1 2 1 1 2 0 2 1 1 1 2 2 2 0 1 1 0 0 0 2 0 1 2 2 1 0\n",
      " 1 1 1 2 1 0 0 0 0 1 1 1 1 1 1 2 0 2 1 0 1 0 1 2 1 0]\n"
     ]
    },
    {
     "data": {
      "image/png": "[encoded data removed]",
      "text/plain": [
       "<Figure size 1080x720 with 1 Axes>"
      ]
     },
     "metadata": {
      "needs_background": "light"
     },
     "output_type": "display_data"
    }
   ],
   "source": [
    "a = np.random.uniform(low=0., high=100., size=(100,2))\n",
    "n = 3\n",
    "C , clusters = kmeans(a,n)\n",
    "\n",
    "print(\"Centroids = \\n\"+str(C))\n",
    "print(\"\\nClusters = \\n\"+str(clusters))\n",
    "\n",
    "fig_class, ax = plt.subplots(figsize=(15,10))\n",
    "sc = ax.scatter(a[:,0], a[:,1], alpha=1,c=clusters,cmap='jet')\n",
    "for c in C:\n",
    "    plt.plot(c[0],c[1],'rx', markersize=12)"
   ]
  },
  {
   "cell_type": "markdown",
   "metadata": {},
   "source": [
    "### Ejercicio 9:  Computar Métricas con \\_\\_call\\_\\_"
   ]
  },
  {
   "cell_type": "code",
   "execution_count": 17,
   "metadata": {},
   "outputs": [],
   "source": [
    "class Metrics():\n",
    "    \n",
    "    def __init__(self,**kwargs):\n",
    "        self.data = kwargs\n",
    "        self.__metrics_list = [self.precision,self.recall,self.accuracy]\n",
    "        self.metrics = {}\n",
    "        \n",
    "    def __call__(self):\n",
    "        for m in self.__metrics_list:\n",
    "            self.metrics[m.__name__] = m(**self.data)\n",
    "        return self.metrics\n",
    "    \n",
    "    def __get_tp(self,truth,pred):\n",
    "        return np.sum((truth==1)*(pred==1))\n",
    "\n",
    "    def __get_tn(self,truth,pred):\n",
    "        return np.sum((truth==0)*(pred==0))\n",
    "\n",
    "    def __get_fn(self,truth,pred):\n",
    "        return np.sum((truth==1)*(pred==0))\n",
    "\n",
    "    def __get_fp(self,truth,pred):\n",
    "        return np.sum((truth==0)*(pred==1))\n",
    "\n",
    "    def precision(self,**kwargs):\n",
    "        truth = kwargs['truth']\n",
    "        pred = kwargs['prediction']\n",
    "        tp = self.__get_tp(truth,pred)\n",
    "        fp = self.__get_fp(truth,pred)\n",
    "        return tp / (tp + fp)\n",
    "\n",
    "    def recall(self,**kwargs):\n",
    "        truth = kwargs['truth']\n",
    "        pred = kwargs['prediction']\n",
    "        tp = self.__get_tp(truth,pred)\n",
    "        fn = self.__get_fn(truth,pred)\n",
    "        return tp / (tp + fn)\n",
    "\n",
    "    def accuracy2(self,**kwargs):\n",
    "        truth = kwargs['truth']\n",
    "        pred = kwargs['prediction']\n",
    "        tp = self.__get_tp(truth,pred)\n",
    "        tn = self.__get_tn(truth,pred)\n",
    "        fp = self.__get_fp(truth,pred)\n",
    "        fn = self.__get_fn(truth,pred)\n",
    "        return (tp + tn) / (tp + tn + fp + fn)\n",
    "\n",
    "    def accuracy(self,**kwargs):\n",
    "        truth = kwargs['truth']\n",
    "        pred = kwargs['prediction']\n",
    "        return np.sum(truth==pred) / truth.shape[0]"
   ]
  },
  {
   "cell_type": "code",
   "execution_count": 18,
   "metadata": {},
   "outputs": [
    {
     "name": "stdout",
     "output_type": "stream",
     "text": [
      "metrics = {'precision': 0.5, 'recall': 0.5, 'accuracy': 0.4}\n",
      "only accuracy = 0.4\n"
     ]
    }
   ],
   "source": [
    "truth = np.array([1,1,0,1,1,1,0,0,0,1])\n",
    "prediction = np.array([1,1,1,1,0,0,1,1,0,0])\n",
    "\n",
    "# Method1\n",
    "# m  = Metrics(truth=truth,prediction=prediction)\n",
    "\n",
    "# Method2\n",
    "kwargs = {'truth': truth,'prediction': prediction}\n",
    "metric = Metrics(**kwargs)\n",
    "print('metrics = ' + str(metric()))\n",
    "print('only accuracy = '+str(metric.accuracy(**kwargs)))"
   ]
  },
  {
   "cell_type": "markdown",
   "metadata": {},
   "source": [
    "### Ejercicio 10: Dataset a NumPy Estructurado - Patrón de Diseño Singleton\n",
    "https://numpy.org/doc/stable/user/basics.rec.html\n",
    "\n",
    "https://stackoverflow.com/questions/16246643/adding-records-to-a-numpy-record-array"
   ]
  },
  {
   "cell_type": "code",
   "execution_count": 19,
   "metadata": {},
   "outputs": [],
   "source": [
    "class npDataset():\n",
    "    def __init__(self,csv_name):\n",
    "        self.dataset = self.__read_dataset(csv_name)\n",
    "#     def __init__(self,**kwargs):\n",
    "#         pass\n",
    "\n",
    "    def __read_dataset(self,csv_name):\n",
    "        with open(csv_name) as csvfile:\n",
    "            # Read CSV\n",
    "            reader = csv.reader(csvfile)\n",
    "\n",
    "            # Get title and first row\n",
    "            title = next(reader)\n",
    "            row1 = next(reader)\n",
    "            nprow1 = np.array(row1)\n",
    "\n",
    "            # Get dtype of dataset\n",
    "            dtype=[]\n",
    "            for t,r in zip(title,nprow1):\n",
    "                dtype.append((t,r.dtype))\n",
    "\n",
    "            # Add first row to dataset\n",
    "            dataset = np.array(tuple(row1),dtype=dtype)\n",
    "\n",
    "            # Add data\n",
    "            for line in reader:\n",
    "                dataset = np.append(dataset,np.array(tuple(line),dtype=dtype))\n",
    "            return dataset\n",
    "    \n",
    "    def get_dataset(self):\n",
    "        return self.dataset\n",
    "    \n",
    "    def save_pickle(self,pickle_name):\n",
    "        pickle.dump(self.dataset, open(pickle_name, \"wb\" ))\n",
    "        \n",
    "    def load_pickle(self,pickle_name):        \n",
    "        self.dataset = pickle.load(open(pickle_name, \"rb\" ))\n",
    "    "
   ]
  },
  {
   "cell_type": "code",
   "execution_count": 20,
   "metadata": {},
   "outputs": [
    {
     "name": "stdout",
     "output_type": "stream",
     "text": [
      "[('1', '0114709', '862') ('2', '0113497', '884') ('3', '0113228', '156')\n",
      " ... ('1', '0303758', '677') ('1', '0008536', '227')\n",
      " ('1', '6980792', '461')]\n"
     ]
    },
    {
     "data": {
      "text/plain": [
       "array([('1', '0114709', '862'), ('2', '0113497', '884'),\n",
       "       ('3', '0113228', '156'), ..., ('1', '0303758', '677'),\n",
       "       ('1', '0008536', '227'), ('1', '6980792', '461')],\n",
       "      dtype=[('movieId', '<U1'), ('imdbId', '<U7'), ('tmdbId', '<U3')])"
      ]
     },
     "execution_count": 20,
     "metadata": {},
     "output_type": "execute_result"
    }
   ],
   "source": [
    "DATA_PATH = './data/'\n",
    "csv_name = DATA_PATH+'links.csv'\n",
    "\n",
    "myDataset = npDataset(csv_name)\n",
    "\n",
    "print(myDataset.get_dataset())\n",
    "myDataset.get_dataset()"
   ]
  },
  {
   "cell_type": "code",
   "execution_count": 21,
   "metadata": {},
   "outputs": [
    {
     "data": {
      "text/plain": [
       "array([('1', '0114709', '862'), ('2', '0113497', '884'),\n",
       "       ('3', '0113228', '156'), ..., ('1', '0303758', '677'),\n",
       "       ('1', '0008536', '227'), ('1', '6980792', '461')],\n",
       "      dtype=[('movieId', '<U1'), ('imdbId', '<U7'), ('tmdbId', '<U3')])"
      ]
     },
     "execution_count": 21,
     "metadata": {},
     "output_type": "execute_result"
    }
   ],
   "source": [
    "PICKLE_PATH = './pickles/'\n",
    "pickle_name = PICKLE_PATH+'plk_links'\n",
    "\n",
    "myDataset.save_pickle(pickle_name)\n",
    "\n",
    "new_dataset = pickle.load(open(pickle_name, \"rb\" ))\n",
    "new_dataset"
   ]
  },
  {
   "cell_type": "code",
   "execution_count": null,
   "metadata": {},
   "outputs": [],
   "source": []
  }
 ],
 "metadata": {
  "kernelspec": {
   "display_name": "Python 3",
   "language": "python",
   "name": "python3"
  },
  "language_info": {
   "codemirror_mode": {
    "name": "ipython",
    "version": 3
   },
   "file_extension": ".py",
   "mimetype": "text/x-python",
   "name": "python",
   "nbconvert_exporter": "python",
   "pygments_lexer": "ipython3",
   "version": "3.8.5"
  }
 },
 "nbformat": 4,
 "nbformat_minor": 4
}
