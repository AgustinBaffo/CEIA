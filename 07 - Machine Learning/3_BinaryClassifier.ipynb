{
 "cells": [
  {
   "cell_type": "markdown",
   "metadata": {},
   "source": [
    "# Import libraries"
   ]
  },
  {
   "cell_type": "code",
   "execution_count": 1,
   "metadata": {},
   "outputs": [
    {
     "name": "stderr",
     "output_type": "stream",
     "text": [
      "2021-12-02 20:15:18.379946: W tensorflow/stream_executor/platform/default/dso_loader.cc:64] Could not load dynamic library 'libcudart.so.11.0'; dlerror: libcudart.so.11.0: cannot open shared object file: No such file or directory\n",
      "2021-12-02 20:15:18.379971: I tensorflow/stream_executor/cuda/cudart_stub.cc:29] Ignore above cudart dlerror if you do not have a GPU set up on your machine.\n"
     ]
    }
   ],
   "source": [
    "# Import libraries\n",
    "import pandas as pd\n",
    "import numpy as np\n",
    "import matplotlib.pyplot as plt\n",
    "import seaborn as sns; sns.set()\n",
    "import math\n",
    "import pickle\n",
    "\n",
    "import warnings\n",
    "warnings.filterwarnings(\"ignore\")\n",
    "\n",
    "# Train-Test\n",
    "from sklearn.model_selection import train_test_split\n",
    "\n",
    "# Feature selection\n",
    "from sklearn.decomposition import PCA\n",
    "from sklearn.feature_selection import RFE\n",
    "\n",
    "# Classification models\n",
    "from sklearn.dummy import DummyClassifier\n",
    "from sklearn.linear_model import SGDClassifier\n",
    "from sklearn.linear_model import LogisticRegression\n",
    "# from sklearn.neighbors import KNeighborsClassifier\n",
    "from sklearn.tree import DecisionTreeClassifier\n",
    "from sklearn.ensemble import RandomForestClassifier\n",
    "# from sklearn.ensemble import AdaBoostClassifier\n",
    "\n",
    "from sklearn import metrics\n",
    "from sklearn.model_selection import GridSearchCV\n",
    "\n",
    "# Tensorflow\n",
    "import tensorflow as tf\n",
    "from tensorflow import keras\n",
    "\n",
    "from keras.models import Sequential\n",
    "from keras.layers import Dense\n",
    "from keras.layers import Dropout\n",
    "from keras.utils.vis_utils import plot_model"
   ]
  },
  {
   "cell_type": "markdown",
   "metadata": {},
   "source": [
    "## Load data from pickle file"
   ]
  },
  {
   "cell_type": "code",
   "execution_count": 2,
   "metadata": {},
   "outputs": [],
   "source": [
    "df_train_processed = pd.read_pickle('./data/df_train_processed.pkl')\n",
    "\n",
    "open_file = open('./data/df_param_dict.pkl', \"rb\")\n",
    "param_dict = pickle.load(open_file)\n",
    "open_file.close()\n",
    "\n",
    "df_test_processed = pd.read_pickle('./data/df_test_processed.pkl')"
   ]
  },
  {
   "cell_type": "code",
   "execution_count": 3,
   "metadata": {},
   "outputs": [],
   "source": [
    "# Split into train/cv\n",
    "X_train, X_cv, y_train, y_cv = train_test_split(\n",
    "    df_train_processed.drop(['Potability'], axis=1),\n",
    "    df_train_processed['Potability'],\n",
    "    test_size=0.1,\n",
    "    random_state=0,   \n",
    "    stratify=df_train_processed['Potability'])"
   ]
  },
  {
   "cell_type": "markdown",
   "metadata": {},
   "source": [
    "## Feature selection: PCA"
   ]
  },
  {
   "cell_type": "code",
   "execution_count": 4,
   "metadata": {},
   "outputs": [
    {
     "name": "stdout",
     "output_type": "stream",
     "text": [
      "Number of components required to explain 0.95% of the variance = 9\n"
     ]
    }
   ],
   "source": [
    "explained_variance = .95\n",
    "pca = PCA(n_components=explained_variance).fit(X_train)\n",
    "\n",
    "X_train_pca = pca.transform(X_train)\n",
    "X_cv_pca = pca.transform(X_cv)\n",
    "\n",
    "print(\"Number of components required to explain \"+str(explained_variance)+\"% of the variance = \"+str(X_train_pca.shape[1]))"
   ]
  },
  {
   "cell_type": "markdown",
   "metadata": {},
   "source": [
    "## Feature selection: RFE (with simple Logistic Regression)"
   ]
  },
  {
   "cell_type": "code",
   "execution_count": 5,
   "metadata": {},
   "outputs": [
    {
     "name": "stdout",
     "output_type": "stream",
     "text": [
      "Columns selected: ['Trihalomethanes_imputed', 'Sulfate', 'Hardness', 'Solids', 'Conductivity', 'Trihalomethanes', 'Turbidity', 'ph_imputed', 'Sulfate_imputed']\n"
     ]
    }
   ],
   "source": [
    "logisticRegr = LogisticRegression()\n",
    "\n",
    "rfe = RFE(estimator=logisticRegr, step=1, verbose=0, n_features_to_select=9)\n",
    "rfe = rfe.fit(X_train, y_train.values.ravel())\n",
    "\n",
    "total_cols = np.array(X_train.columns.values.tolist())\n",
    "selected_cols = total_cols[rfe.support_].tolist()\n",
    "X_train_rfe = X_train[selected_cols]\n",
    "X_cv_rfe =  X_cv[selected_cols]\n",
    "print(\"Columns selected: \"+str(selected_cols))"
   ]
  },
  {
   "cell_type": "code",
   "execution_count": 6,
   "metadata": {},
   "outputs": [],
   "source": [
    "# Save data\n",
    "open_file = open('./data/clf_pca.pkl', \"wb\")\n",
    "pickle.dump(pca, open_file)\n",
    "open_file.close()\n",
    "\n",
    "open_file = open('./data/clf_rfe_cols.pkl', \"wb\")\n",
    "pickle.dump(selected_cols, open_file)\n",
    "open_file.close()"
   ]
  },
  {
   "cell_type": "markdown",
   "metadata": {},
   "source": [
    "# Train Models"
   ]
  },
  {
   "cell_type": "code",
   "execution_count": 7,
   "metadata": {},
   "outputs": [],
   "source": [
    "def testModel(clf_,grid_values_,X_train_,y_train_,X_cv_,y_cv_,scoring_='f1',verbose_=0):\n",
    "    # model.get_params() # Return selected params\n",
    "    # cv=None -> None, to use the default 5-fold cross validation (K-Fold, k=5)\n",
    "    model_ = GridSearchCV(clf_, param_grid = grid_values_, cv=None, scoring=scoring_,verbose=verbose_)\n",
    "    model_.fit(X_train_, y_train_)\n",
    "\n",
    "    y_pred = model_.predict(X_cv_)\n",
    "    metrics_={    \n",
    "        \"accuracy\":         metrics.accuracy_score(y_cv_, y_pred),\n",
    "        \"precision\":        metrics.precision_score(y_cv_, y_pred),\n",
    "        \"recall\":           metrics.recall_score(y_cv_, y_pred),\n",
    "        \"f1_score\":         metrics.f1_score(y_cv_, y_pred),\n",
    "        \"confusion_matrix\": metrics.confusion_matrix(y_cv_, y_pred)\n",
    "    }\n",
    "    return model_, metrics_\n",
    "\n",
    "def train_models(X_train_, y_train_, X_cv_, y_cv_, features_selection='',add_dummy=False):\n",
    "    model_list=[]\n",
    "\n",
    "    # Dummy Classifier\n",
    "    if add_dummy:\n",
    "        clf = DummyClassifier(strategy= 'most_frequent')\n",
    "        grid_values={}\n",
    "        model, model_metrics = testModel(clf,grid_values,X_train_,y_train_,X_cv_,y_cv_)\n",
    "        model_list.append(\n",
    "            {'name': 'DummyClassifier',\n",
    "            'model': model,\n",
    "            'features_selection': features_selection,\n",
    "            'metrics': model_metrics\n",
    "            }\n",
    "        )\n",
    "\n",
    "    # LogisticRegression\n",
    "    clf = LogisticRegression()\n",
    "    grid_values = {\n",
    "        'penalty': ['l2',None],\n",
    "        'C': [0.01,.1,1,10],\n",
    "        }\n",
    "\n",
    "    model, model_metrics = testModel(clf,grid_values,X_train_,y_train_,X_cv_,y_cv_)\n",
    "    model_list.append(\n",
    "        {'name': 'LogisticRegression',\n",
    "        'model': model,\n",
    "        'features_selection': features_selection,\n",
    "        'metrics': model_metrics  \n",
    "        }\n",
    "    )\n",
    "\n",
    "    # SGDClassifier\n",
    "    # Linear classifiers (SVM, logistic regression, etc.) with SGD training. \n",
    "    # For best results using the default learning rate schedule, the data should have zero mean and unit variance.\n",
    "    loss_list = [           # List of models\n",
    "        'hinge',            # SVM\n",
    "        'squared_hinge',    # Like hinge but quadratically penalized\n",
    "    ]\n",
    "\n",
    "    for loss in loss_list:\n",
    "        grid_values = {\n",
    "            'l1_ratio': [0,0.25,0.5,0.75,1], # (0 <= l1_ratio <= 1): l1_ratio=0 corresponds to L2 penalty, l1_ratio=1 to L1\n",
    "            'alpha': [0.001, 0.01,.1,1], # The higher the value, the stronger the regularization. Also used to compute the learning rate when set to learning_rate is set to ‘optimal’.\n",
    "            }\n",
    "\n",
    "        clf = SGDClassifier(verbose=0, max_iter=1000, tol=1e-3, penalty='elasticnet',\n",
    "                            learning_rate='optimal', early_stopping=True, validation_fraction=0.1, \n",
    "                            n_iter_no_change=5, loss=loss)\n",
    "\n",
    "        model, model_metrics = testModel(clf,grid_values,X_train_,y_train_,X_cv_,y_cv_)\n",
    "        model_list.append(\n",
    "            {'name': 'SGDClassifier_'+str(loss),\n",
    "            'model': model,\n",
    "            'features_selection': features_selection,\n",
    "            'metrics': model_metrics    \n",
    "            }\n",
    "        )\n",
    "\n",
    "    # DecisionTreeClassifier\n",
    "    clf = DecisionTreeClassifier()\n",
    "    grid_values = {}\n",
    "    X_train_,y_train_,X_cv_,y_cv_ = X_train_pca, y_train, X_cv_pca, y_cv\n",
    "    model, model_metrics = testModel(clf,grid_values,X_train_,y_train_,X_cv_,y_cv_)\n",
    "    model_list.append(\n",
    "        {'name': 'DecisionTreeClassifier',\n",
    "        'model': model,\n",
    "        'features_selection': features_selection,\n",
    "        'metrics': model_metrics    \n",
    "        }\n",
    "    )\n",
    "\n",
    "    # RandomForestClassifier\n",
    "    clf = RandomForestClassifier(criterion=\"entropy\")\n",
    "    grid_values = {}\n",
    "    X_train_,y_train_,X_cv_,y_cv_ = X_train_pca, y_train, X_cv_pca, y_cv\n",
    "    model, model_metrics = testModel(clf,grid_values,X_train_,y_train_,X_cv_,y_cv_)\n",
    "    model_list.append(\n",
    "        {'name': 'RandomForestClassifier',\n",
    "        'model': model,\n",
    "        'features_selection': features_selection,\n",
    "        'metrics': model_metrics    \n",
    "        }\n",
    "    )\n",
    "\n",
    "    return model_list"
   ]
  },
  {
   "cell_type": "code",
   "execution_count": 8,
   "metadata": {},
   "outputs": [],
   "source": [
    "model_list_rfe = train_models(X_train_rfe, y_train, X_cv_rfe, y_cv, features_selection='RFE', add_dummy=True)\n",
    "model_list_pca = train_models(X_train_pca, y_train, X_cv_pca, y_cv, features_selection='PCA')\n",
    "\n",
    "model_list = model_list_pca+model_list_rfe"
   ]
  },
  {
   "cell_type": "markdown",
   "metadata": {},
   "source": [
    "## Add Neural Network"
   ]
  },
  {
   "cell_type": "code",
   "execution_count": 9,
   "metadata": {},
   "outputs": [
    {
     "name": "stderr",
     "output_type": "stream",
     "text": [
      "2021-12-02 20:15:49.249209: I tensorflow/stream_executor/cuda/cuda_gpu_executor.cc:939] successful NUMA node read from SysFS had negative value (-1), but there must be at least one NUMA node, so returning NUMA node zero\n",
      "2021-12-02 20:15:49.249572: W tensorflow/stream_executor/platform/default/dso_loader.cc:64] Could not load dynamic library 'libcudart.so.11.0'; dlerror: libcudart.so.11.0: cannot open shared object file: No such file or directory\n",
      "2021-12-02 20:15:49.249630: W tensorflow/stream_executor/platform/default/dso_loader.cc:64] Could not load dynamic library 'libcublas.so.11'; dlerror: libcublas.so.11: cannot open shared object file: No such file or directory\n",
      "2021-12-02 20:15:49.249682: W tensorflow/stream_executor/platform/default/dso_loader.cc:64] Could not load dynamic library 'libcublasLt.so.11'; dlerror: libcublasLt.so.11: cannot open shared object file: No such file or directory\n",
      "2021-12-02 20:15:49.249735: W tensorflow/stream_executor/platform/default/dso_loader.cc:64] Could not load dynamic library 'libcufft.so.10'; dlerror: libcufft.so.10: cannot open shared object file: No such file or directory\n",
      "2021-12-02 20:15:49.249786: W tensorflow/stream_executor/platform/default/dso_loader.cc:64] Could not load dynamic library 'libcurand.so.10'; dlerror: libcurand.so.10: cannot open shared object file: No such file or directory\n",
      "2021-12-02 20:15:49.249836: W tensorflow/stream_executor/platform/default/dso_loader.cc:64] Could not load dynamic library 'libcusolver.so.11'; dlerror: libcusolver.so.11: cannot open shared object file: No such file or directory\n",
      "2021-12-02 20:15:49.249886: W tensorflow/stream_executor/platform/default/dso_loader.cc:64] Could not load dynamic library 'libcusparse.so.11'; dlerror: libcusparse.so.11: cannot open shared object file: No such file or directory\n",
      "2021-12-02 20:15:49.250024: W tensorflow/core/common_runtime/gpu/gpu_device.cc:1850] Cannot dlopen some GPU libraries. Please make sure the missing libraries mentioned above are installed properly if you would like to use GPU. Follow the guide at https://www.tensorflow.org/install/gpu for how to download and setup the required libraries for your platform.\n",
      "Skipping registering GPU devices...\n",
      "2021-12-02 20:15:49.250434: I tensorflow/core/platform/cpu_feature_guard.cc:151] This TensorFlow binary is optimized with oneAPI Deep Neural Network Library (oneDNN) to use the following CPU instructions in performance-critical operations:  AVX2 FMA\n",
      "To enable them in other operations, rebuild TensorFlow with the appropriate compiler flags.\n"
     ]
    },
    {
     "data": {
      "text/plain": [
       "{'accuracy': 0.6901840490797546,\n",
       " 'precision': 0.6685393258426966,\n",
       " 'recall': 0.7391304347826086,\n",
       " 'f1_score': 0.7020648967551621,\n",
       " 'confusion_matrix': array([[106,  59],\n",
       "        [ 42, 119]])}"
      ]
     },
     "execution_count": 9,
     "metadata": {},
     "output_type": "execute_result"
    }
   ],
   "source": [
    "def create_model():\n",
    "  # create model\n",
    "  model = tf.keras.models.Sequential()\n",
    "  model.add(tf.keras.layers.Dense(100))\n",
    "  model.add(tf.keras.layers.Activation('relu'))\n",
    "  model.add(tf.keras.layers.Dense(30))\n",
    "  model.add(tf.keras.layers.Activation('relu'))\n",
    "  model.add(tf.keras.layers.Dense(1))\n",
    "  model.add(tf.keras.layers.Activation('sigmoid'))\n",
    "\n",
    "  return model\n",
    "\n",
    "nn_model = create_model()\n",
    "\n",
    "nn_model.compile(\n",
    "    optimizer=tf.keras.optimizers.Adam(learning_rate=0.01),\n",
    "    loss='binary_crossentropy',\n",
    "    metrics=[ tf.keras.metrics.AUC(),\n",
    "              'accuracy',\n",
    "    ]\n",
    ")\n",
    "\n",
    "nn_history = nn_model.fit(\n",
    "    X_train.astype(np.float32), \n",
    "    y_train.astype(np.float32),\n",
    "    epochs=70,\n",
    "    batch_size=32,\n",
    "    validation_data=(X_cv, y_cv),\n",
    "    verbose=0\n",
    ")\n",
    "\n",
    "nn_y_pred = np.array(nn_model.predict(X_cv)>.5).squeeze().astype(int)\n",
    "nn_metrics = {    \n",
    "    \"accuracy\":         metrics.accuracy_score(y_cv, nn_y_pred),\n",
    "    \"precision\":        metrics.precision_score(y_cv, nn_y_pred),\n",
    "    \"recall\":           metrics.recall_score(y_cv, nn_y_pred),\n",
    "    \"f1_score\":         metrics.f1_score(y_cv, nn_y_pred),\n",
    "    \"confusion_matrix\": metrics.confusion_matrix(y_cv, nn_y_pred)\n",
    "}\n",
    "\n",
    "nn_metrics"
   ]
  },
  {
   "cell_type": "code",
   "execution_count": 10,
   "metadata": {},
   "outputs": [],
   "source": [
    "model_list.append(\n",
    "    {'name': 'NeuralNetwork',\n",
    "    'model': nn_model,\n",
    "    'features_selection': \"None\",\n",
    "    'metrics': nn_metrics    \n",
    "    }\n",
    ")"
   ]
  },
  {
   "cell_type": "code",
   "execution_count": 11,
   "metadata": {},
   "outputs": [
    {
     "data": {
      "text/html": [
       "<div>\n",
       "<style scoped>\n",
       "    .dataframe tbody tr th:only-of-type {\n",
       "        vertical-align: middle;\n",
       "    }\n",
       "\n",
       "    .dataframe tbody tr th {\n",
       "        vertical-align: top;\n",
       "    }\n",
       "\n",
       "    .dataframe thead th {\n",
       "        text-align: right;\n",
       "    }\n",
       "</style>\n",
       "<table border=\"1\" class=\"dataframe\">\n",
       "  <thead>\n",
       "    <tr style=\"text-align: right;\">\n",
       "      <th></th>\n",
       "      <th>name</th>\n",
       "      <th>features_selection</th>\n",
       "      <th>accuracy</th>\n",
       "      <th>precision</th>\n",
       "      <th>recall</th>\n",
       "      <th>f1_score</th>\n",
       "      <th>confusion_matrix</th>\n",
       "    </tr>\n",
       "  </thead>\n",
       "  <tbody>\n",
       "    <tr>\n",
       "      <th>0</th>\n",
       "      <td>LogisticRegression</td>\n",
       "      <td>PCA</td>\n",
       "      <td>0.518405</td>\n",
       "      <td>0.514286</td>\n",
       "      <td>0.447205</td>\n",
       "      <td>0.478405</td>\n",
       "      <td>[[97, 68], [89, 72]]</td>\n",
       "    </tr>\n",
       "    <tr>\n",
       "      <th>1</th>\n",
       "      <td>SGDClassifier_hinge</td>\n",
       "      <td>PCA</td>\n",
       "      <td>0.493865</td>\n",
       "      <td>0.493865</td>\n",
       "      <td>1.000000</td>\n",
       "      <td>0.661191</td>\n",
       "      <td>[[0, 165], [0, 161]]</td>\n",
       "    </tr>\n",
       "    <tr>\n",
       "      <th>2</th>\n",
       "      <td>SGDClassifier_log</td>\n",
       "      <td>PCA</td>\n",
       "      <td>0.506135</td>\n",
       "      <td>0.000000</td>\n",
       "      <td>0.000000</td>\n",
       "      <td>0.000000</td>\n",
       "      <td>[[165, 0], [161, 0]]</td>\n",
       "    </tr>\n",
       "    <tr>\n",
       "      <th>3</th>\n",
       "      <td>SGDClassifier_squared_hinge</td>\n",
       "      <td>PCA</td>\n",
       "      <td>0.487730</td>\n",
       "      <td>0.481013</td>\n",
       "      <td>0.472050</td>\n",
       "      <td>0.476489</td>\n",
       "      <td>[[83, 82], [85, 76]]</td>\n",
       "    </tr>\n",
       "    <tr>\n",
       "      <th>4</th>\n",
       "      <td>DecisionTreeClassifier</td>\n",
       "      <td>PCA</td>\n",
       "      <td>0.687117</td>\n",
       "      <td>0.654450</td>\n",
       "      <td>0.776398</td>\n",
       "      <td>0.710227</td>\n",
       "      <td>[[99, 66], [36, 125]]</td>\n",
       "    </tr>\n",
       "    <tr>\n",
       "      <th>5</th>\n",
       "      <td>RandomForestClassifier</td>\n",
       "      <td>PCA</td>\n",
       "      <td>0.720859</td>\n",
       "      <td>0.721519</td>\n",
       "      <td>0.708075</td>\n",
       "      <td>0.714734</td>\n",
       "      <td>[[121, 44], [47, 114]]</td>\n",
       "    </tr>\n",
       "    <tr>\n",
       "      <th>6</th>\n",
       "      <td>DummyClassifier</td>\n",
       "      <td>RFE</td>\n",
       "      <td>0.506135</td>\n",
       "      <td>0.000000</td>\n",
       "      <td>0.000000</td>\n",
       "      <td>0.000000</td>\n",
       "      <td>[[165, 0], [161, 0]]</td>\n",
       "    </tr>\n",
       "    <tr>\n",
       "      <th>7</th>\n",
       "      <td>LogisticRegression</td>\n",
       "      <td>RFE</td>\n",
       "      <td>0.496933</td>\n",
       "      <td>0.489655</td>\n",
       "      <td>0.440994</td>\n",
       "      <td>0.464052</td>\n",
       "      <td>[[91, 74], [90, 71]]</td>\n",
       "    </tr>\n",
       "    <tr>\n",
       "      <th>8</th>\n",
       "      <td>SGDClassifier_hinge</td>\n",
       "      <td>RFE</td>\n",
       "      <td>0.530675</td>\n",
       "      <td>0.633333</td>\n",
       "      <td>0.118012</td>\n",
       "      <td>0.198953</td>\n",
       "      <td>[[154, 11], [142, 19]]</td>\n",
       "    </tr>\n",
       "    <tr>\n",
       "      <th>9</th>\n",
       "      <td>SGDClassifier_log</td>\n",
       "      <td>RFE</td>\n",
       "      <td>0.521472</td>\n",
       "      <td>0.517007</td>\n",
       "      <td>0.472050</td>\n",
       "      <td>0.493506</td>\n",
       "      <td>[[94, 71], [85, 76]]</td>\n",
       "    </tr>\n",
       "    <tr>\n",
       "      <th>10</th>\n",
       "      <td>SGDClassifier_squared_hinge</td>\n",
       "      <td>RFE</td>\n",
       "      <td>0.512270</td>\n",
       "      <td>0.504000</td>\n",
       "      <td>0.782609</td>\n",
       "      <td>0.613139</td>\n",
       "      <td>[[41, 124], [35, 126]]</td>\n",
       "    </tr>\n",
       "    <tr>\n",
       "      <th>11</th>\n",
       "      <td>DecisionTreeClassifier</td>\n",
       "      <td>RFE</td>\n",
       "      <td>0.696319</td>\n",
       "      <td>0.672222</td>\n",
       "      <td>0.751553</td>\n",
       "      <td>0.709677</td>\n",
       "      <td>[[106, 59], [40, 121]]</td>\n",
       "    </tr>\n",
       "    <tr>\n",
       "      <th>12</th>\n",
       "      <td>RandomForestClassifier</td>\n",
       "      <td>RFE</td>\n",
       "      <td>0.745399</td>\n",
       "      <td>0.753247</td>\n",
       "      <td>0.720497</td>\n",
       "      <td>0.736508</td>\n",
       "      <td>[[127, 38], [45, 116]]</td>\n",
       "    </tr>\n",
       "    <tr>\n",
       "      <th>13</th>\n",
       "      <td>NeuralNetwork</td>\n",
       "      <td>None</td>\n",
       "      <td>0.690184</td>\n",
       "      <td>0.668539</td>\n",
       "      <td>0.739130</td>\n",
       "      <td>0.702065</td>\n",
       "      <td>[[106, 59], [42, 119]]</td>\n",
       "    </tr>\n",
       "  </tbody>\n",
       "</table>\n",
       "</div>"
      ],
      "text/plain": [
       "                           name features_selection  accuracy  precision  \\\n",
       "0            LogisticRegression                PCA  0.518405   0.514286   \n",
       "1           SGDClassifier_hinge                PCA  0.493865   0.493865   \n",
       "2             SGDClassifier_log                PCA  0.506135   0.000000   \n",
       "3   SGDClassifier_squared_hinge                PCA  0.487730   0.481013   \n",
       "4        DecisionTreeClassifier                PCA  0.687117   0.654450   \n",
       "5        RandomForestClassifier                PCA  0.720859   0.721519   \n",
       "6               DummyClassifier                RFE  0.506135   0.000000   \n",
       "7            LogisticRegression                RFE  0.496933   0.489655   \n",
       "8           SGDClassifier_hinge                RFE  0.530675   0.633333   \n",
       "9             SGDClassifier_log                RFE  0.521472   0.517007   \n",
       "10  SGDClassifier_squared_hinge                RFE  0.512270   0.504000   \n",
       "11       DecisionTreeClassifier                RFE  0.696319   0.672222   \n",
       "12       RandomForestClassifier                RFE  0.745399   0.753247   \n",
       "13                NeuralNetwork               None  0.690184   0.668539   \n",
       "\n",
       "      recall  f1_score        confusion_matrix  \n",
       "0   0.447205  0.478405    [[97, 68], [89, 72]]  \n",
       "1   1.000000  0.661191    [[0, 165], [0, 161]]  \n",
       "2   0.000000  0.000000    [[165, 0], [161, 0]]  \n",
       "3   0.472050  0.476489    [[83, 82], [85, 76]]  \n",
       "4   0.776398  0.710227   [[99, 66], [36, 125]]  \n",
       "5   0.708075  0.714734  [[121, 44], [47, 114]]  \n",
       "6   0.000000  0.000000    [[165, 0], [161, 0]]  \n",
       "7   0.440994  0.464052    [[91, 74], [90, 71]]  \n",
       "8   0.118012  0.198953  [[154, 11], [142, 19]]  \n",
       "9   0.472050  0.493506    [[94, 71], [85, 76]]  \n",
       "10  0.782609  0.613139  [[41, 124], [35, 126]]  \n",
       "11  0.751553  0.709677  [[106, 59], [40, 121]]  \n",
       "12  0.720497  0.736508  [[127, 38], [45, 116]]  \n",
       "13  0.739130  0.702065  [[106, 59], [42, 119]]  "
      ]
     },
     "execution_count": 11,
     "metadata": {},
     "output_type": "execute_result"
    }
   ],
   "source": [
    "models_df = None\n",
    "column_names = [\"name\",\"features_selection\",\"accuracy\",\"precision\",\"recall\",\"f1_score\",\"confusion_matrix\",\"model\"]\n",
    "models_df = pd.DataFrame(columns=column_names)\n",
    "for m in model_list:\n",
    "    m_append = []\n",
    "    m_append.append(m[\"name\"])\n",
    "    m_append.append(m[\"features_selection\"])\n",
    "    m_append.append(m[\"metrics\"][\"accuracy\"])\n",
    "    m_append.append(m[\"metrics\"][\"precision\"])\n",
    "    m_append.append(m[\"metrics\"][\"recall\"])\n",
    "    m_append.append(m[\"metrics\"][\"f1_score\"])\n",
    "    m_append.append(m[\"metrics\"][\"confusion_matrix\"])\n",
    "    m_append.append(m[\"model\"])\n",
    "    m_series = pd.Series(m_append, index = models_df.columns)\n",
    "    models_df = models_df.append(m_series, ignore_index=True)\n",
    "models_df[['name','features_selection','accuracy','precision','recall','f1_score',\"confusion_matrix\"]]"
   ]
  },
  {
   "cell_type": "code",
   "execution_count": 12,
   "metadata": {},
   "outputs": [
    {
     "name": "stderr",
     "output_type": "stream",
     "text": [
      "2021-12-02 20:15:58.362074: W tensorflow/python/util/util.cc:368] Sets are not currently considered sequences, but this may change in the future, so consider avoiding using them.\n"
     ]
    },
    {
     "name": "stdout",
     "output_type": "stream",
     "text": [
      "INFO:tensorflow:Assets written to: ram://f5e14c41-46f6-4857-83e4-07f4ef91d655/assets\n",
      "INFO:tensorflow:Assets written to: ram://41a75de1-339d-49e3-a1bd-04fb73653cd0/assets\n"
     ]
    }
   ],
   "source": [
    "# Save\n",
    "open_file = open('./data/clf_list.pkl', \"wb\")\n",
    "pickle.dump(model_list, open_file)\n",
    "open_file.close()\n",
    "\n",
    "models_df.to_pickle('./data/clf_df.pkl')\n",
    "\n",
    "# # Load\n",
    "# open_file = open('./data/clf_list.pkl', \"rb\")\n",
    "# model_list = pickle.load(open_file)\n",
    "# open_file.close()\n",
    "\n",
    "# models_df = pd.read_pickle('./data/clf_df.pkl')"
   ]
  },
  {
   "cell_type": "code",
   "execution_count": 13,
   "metadata": {},
   "outputs": [
    {
     "name": "stdout",
     "output_type": "stream",
     "text": [
      "best accuracy =       0.75:\tRandomForestClassifier (features=RFE)\n",
      "best precision =       0.75:\tRandomForestClassifier (features=RFE)\n",
      "best recall =       1.00:\tSGDClassifier_hinge (features=PCA)\n",
      "best f1_score =       0.74:\tRandomForestClassifier (features=RFE)\n"
     ]
    }
   ],
   "source": [
    "metrics_list=[\"accuracy\",\"precision\",\"recall\",\"f1_score\"]\n",
    "for met in metrics_list:\n",
    "    idx = models_df[met].argmax()\n",
    "    name = models_df.iloc[idx][\"name\"] \n",
    "    features_selection = models_df.iloc[idx][\"features_selection\"]\n",
    "    value = models_df.iloc[idx][met]\n",
    "    print(\"best \"+str(met)+\" = \"+\"{:10.2f}\".format(value)+\":\\t\"+str(name)+\" (features=\"+str(features_selection)+\")\")"
   ]
  },
  {
   "cell_type": "markdown",
   "metadata": {},
   "source": [
    "# Final Test"
   ]
  },
  {
   "cell_type": "code",
   "execution_count": 14,
   "metadata": {},
   "outputs": [],
   "source": [
    "# # Load Data\n",
    "df_test_processed = pd.read_pickle('./data/df_test_processed.pkl')\n",
    "\n",
    "open_file = open('./data/df_param_dict.pkl', \"rb\")\n",
    "param_dict = pickle.load(open_file)\n",
    "open_file.close()\n",
    "\n",
    "open_file = open('./data/clf_pca.pkl', \"rb\")\n",
    "pca = pickle.load(open_file)\n",
    "open_file.close()\n",
    "open_file = open('./data/clf_rfe_cols.pkl', \"rb\")\n",
    "selected_cols = pickle.load(open_file)\n",
    "open_file.close()\n",
    "\n",
    "open_file = open('./data/clf_list.pkl', \"rb\")\n",
    "model_list = pickle.load(open_file)\n",
    "open_file.close()\n",
    "\n",
    "models_df = pd.read_pickle('./data/clf_df.pkl')"
   ]
  },
  {
   "cell_type": "code",
   "execution_count": 15,
   "metadata": {},
   "outputs": [
    {
     "name": "stdout",
     "output_type": "stream",
     "text": [
      "Best model: RandomForestClassifier (RFE)\n"
     ]
    }
   ],
   "source": [
    "# # # Remove NaN (no needed)\n",
    "df_test_processed = df_test_processed[df_test_processed['Potability'].notna()]\n",
    "\n",
    "# Split X, y\n",
    "X_test = df_test_processed.drop(['Potability'],axis=1)\n",
    "y_test = df_test_processed.Potability\n",
    "\n",
    "# Select and print best_model\n",
    "print('Best model: '+str(models_df.iloc[models_df['f1_score'].argmax()]['name'])+ \" (\" \\\n",
    "    + str(models_df.iloc[models_df['f1_score'].argmax()]['features_selection'])+\")\")\n",
    "best_model = models_df.iloc[models_df['f1_score'].argmax()]['model']\n",
    "best_features_selection = models_df.iloc[models_df['f1_score'].argmax()][\"features_selection\"]"
   ]
  },
  {
   "cell_type": "code",
   "execution_count": 16,
   "metadata": {},
   "outputs": [
    {
     "name": "stdout",
     "output_type": "stream",
     "text": [
      "Using RFE\n"
     ]
    },
    {
     "data": {
      "text/plain": [
       "{'accuracy': 0.5017064846416383,\n",
       " 'precision': 0.484375,\n",
       " 'recall': 0.2152777777777778,\n",
       " 'f1_score': 0.2980769230769231,\n",
       " 'confusion_matrix': array([[232,  66],\n",
       "        [226,  62]])}"
      ]
     },
     "execution_count": 16,
     "metadata": {},
     "output_type": "execute_result"
    }
   ],
   "source": [
    "if best_features_selection == 'PCA':\n",
    "    # Transform PCA\n",
    "    X_test_trf = pca.transform(X_test)\n",
    "    print(\"Using PCA\")\n",
    "else:\n",
    "    # Transform RFE\n",
    "    X_test_trf = X_test[selected_cols]\n",
    "    print(\"Using RFE\")\n",
    "\n",
    "# Predict\n",
    "y_pred = best_model.predict(X_test_trf)\n",
    "\n",
    "# Get metrics\n",
    "test_metrics={    \n",
    "    \"accuracy\":         metrics.accuracy_score(y_test, y_pred),\n",
    "    \"precision\":        metrics.precision_score(y_test, y_pred),\n",
    "    \"recall\":           metrics.recall_score(y_test, y_pred),\n",
    "    \"f1_score\":         metrics.f1_score(y_test, y_pred),\n",
    "    \"confusion_matrix\": metrics.confusion_matrix(y_test, y_pred)\n",
    "}\n",
    "\n",
    "test_metrics"
   ]
  },
  {
   "cell_type": "code",
   "execution_count": 17,
   "metadata": {},
   "outputs": [
    {
     "data": {
      "text/plain": [
       "<matplotlib.legend.Legend at 0x7f28f0372130>"
      ]
     },
     "execution_count": 17,
     "metadata": {},
     "output_type": "execute_result"
    },
    {
     "data": {
      "image/png": "[encoded data removed]",
      "text/plain": [
       "<Figure size 1800x576 with 1 Axes>"
      ]
     },
     "metadata": {},
     "output_type": "display_data"
    }
   ],
   "source": [
    "TRUNC = 100 #-1: do not trunc\n",
    "x = np.linspace(0,y_test.shape[0]-1,y_test.shape[0])\n",
    "plt.figure(figsize=(25,8))\n",
    "plt.scatter(x[0:TRUNC],y_pred[0:TRUNC],color='red',alpha=.5, marker=8,s=60, label=\"y_test\")\n",
    "plt.scatter(x[0:TRUNC],y_test[0:TRUNC],color='blue',alpha=.5, marker=9,s=60, label=\"y_pred\")\n",
    "plt.legend()"
   ]
  },
  {
   "cell_type": "code",
   "execution_count": null,
   "metadata": {},
   "outputs": [],
   "source": []
  }
 ],
 "metadata": {
  "interpreter": {
   "hash": "b3ba2566441a7c06988d0923437866b63cedc61552a5af99d1f4fb67d367b25f"
  },
  "kernelspec": {
   "display_name": "Python 3.8.5 64-bit ('base': conda)",
   "name": "python3"
  },
  "language_info": {
   "codemirror_mode": {
    "name": "ipython",
    "version": 3
   },
   "file_extension": ".py",
   "mimetype": "text/x-python",
   "name": "python",
   "nbconvert_exporter": "python",
   "pygments_lexer": "ipython3",
   "version": "3.8.8"
  },
  "orig_nbformat": 4
 },
 "nbformat": 4,
 "nbformat_minor": 2
}
