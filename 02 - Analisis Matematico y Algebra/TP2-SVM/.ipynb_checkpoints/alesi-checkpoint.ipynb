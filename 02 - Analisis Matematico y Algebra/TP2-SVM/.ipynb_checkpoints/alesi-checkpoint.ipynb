{
 "cells": [
  {
   "cell_type": "code",
   "execution_count": 1,
   "metadata": {
    "colab": {
     "base_uri": "https://localhost:8080/"
    },
    "executionInfo": {
     "elapsed": 48346,
     "status": "ok",
     "timestamp": 1629653732489,
     "user": {
      "displayName": "alex barria",
      "photoUrl": "https://lh3.googleusercontent.com/a-/AOh14GgkLA-v3MPsmmzhwOrXJcxF37CPc0EXj-HeYQeykA=s64",
      "userId": "15981239920642596223"
     },
     "user_tz": 180
    },
    "id": "_h3HeWyXlfy2",
    "outputId": "c92513a7-b603-41eb-fe52-767fd585208b"
   },
   "outputs": [],
   "source": [
    "import pandas as pd\n",
    "import numpy as np\n",
    "import seaborn as sns\n",
    "import matplotlib.pyplot as plt\n",
    "import plotly.express as px"
   ]
  },
  {
   "cell_type": "code",
   "execution_count": 2,
   "metadata": {
    "executionInfo": {
     "elapsed": 912,
     "status": "ok",
     "timestamp": 1629653737555,
     "user": {
      "displayName": "alex barria",
      "photoUrl": "https://lh3.googleusercontent.com/a-/AOh14GgkLA-v3MPsmmzhwOrXJcxF37CPc0EXj-HeYQeykA=s64",
      "userId": "15981239920642596223"
     },
     "user_tz": 180
    },
    "id": "_ofZv0gJmSbS"
   },
   "outputs": [],
   "source": [
    "trainSet = pd.read_csv(\"./data/train.csv\", sep=',', usecols=range(1,4))\n",
    "testSet = pd.read_csv(\"./data/test.csv\", sep=',', usecols=range(1,4))\n",
    "\n",
    "train = train_df.to_numpy() # Train set\n",
    "test = test_df.to_numpy() # Test set\n",
    "\n",
    "X_train = train[:,0:2]\n",
    "y_train = train[:,2].astype(int)\n",
    "X_test = test[:,0:2]\n",
    "y_test = test[:,2].astype(int)"
   ]
  },
  {
   "cell_type": "code",
   "execution_count": 3,
   "metadata": {
    "executionInfo": {
     "elapsed": 255,
     "status": "ok",
     "timestamp": 1629654390327,
     "user": {
      "displayName": "alex barria",
      "photoUrl": "https://lh3.googleusercontent.com/a-/AOh14GgkLA-v3MPsmmzhwOrXJcxF37CPc0EXj-HeYQeykA=s64",
      "userId": "15981239920642596223"
     },
     "user_tz": 180
    },
    "id": "dCsIoY689vex"
   },
   "outputs": [],
   "source": [
    "testSet.rename(columns={'Unnamed: 0':'Nro Muestra'}, inplace = True)\n",
    "trainSet.rename(columns={'Unnamed: 0':'Nro Muestra'}, inplace = True)"
   ]
  },
  {
   "cell_type": "code",
   "execution_count": null,
   "metadata": {
    "executionInfo": {
     "elapsed": 239,
     "status": "ok",
     "timestamp": 1629667294181,
     "user": {
      "displayName": "alex barria",
      "photoUrl": "https://lh3.googleusercontent.com/a-/AOh14GgkLA-v3MPsmmzhwOrXJcxF37CPc0EXj-HeYQeykA=s64",
      "userId": "15981239920642596223"
     },
     "user_tz": 180
    },
    "id": "62oSgOVevUQR"
   },
   "outputs": [],
   "source": []
  },
  {
   "cell_type": "code",
   "execution_count": null,
   "metadata": {
    "colab": {
     "base_uri": "https://localhost:8080/",
     "height": 696
    },
    "executionInfo": {
     "elapsed": 263,
     "status": "ok",
     "timestamp": 1629667308289,
     "user": {
      "displayName": "alex barria",
      "photoUrl": "https://lh3.googleusercontent.com/a-/AOh14GgkLA-v3MPsmmzhwOrXJcxF37CPc0EXj-HeYQeykA=s64",
      "userId": "15981239920642596223"
     },
     "user_tz": 180
    },
    "id": "B7rRroSXvAMx",
    "outputId": "a9d5ad9a-2a4c-4893-c91a-2c71c931945b"
   },
   "outputs": [],
   "source": [
    "trainSet.head(20)"
   ]
  },
  {
   "cell_type": "code",
   "execution_count": null,
   "metadata": {
    "colab": {
     "base_uri": "https://localhost:8080/",
     "height": 696
    },
    "executionInfo": {
     "elapsed": 287,
     "status": "ok",
     "timestamp": 1629654593583,
     "user": {
      "displayName": "alex barria",
      "photoUrl": "https://lh3.googleusercontent.com/a-/AOh14GgkLA-v3MPsmmzhwOrXJcxF37CPc0EXj-HeYQeykA=s64",
      "userId": "15981239920642596223"
     },
     "user_tz": 180
    },
    "id": "vEWnwqFqmk95",
    "outputId": "ef5f535a-41c1-4c7e-8a22-1b9bec60691e"
   },
   "outputs": [],
   "source": [
    "testSet.head(20)"
   ]
  },
  {
   "cell_type": "code",
   "execution_count": null,
   "metadata": {
    "colab": {
     "base_uri": "https://localhost:8080/",
     "height": 542
    },
    "executionInfo": {
     "elapsed": 1033,
     "status": "ok",
     "timestamp": 1629581746008,
     "user": {
      "displayName": "alex barria",
      "photoUrl": "https://lh3.googleusercontent.com/a-/AOh14GgkLA-v3MPsmmzhwOrXJcxF37CPc0EXj-HeYQeykA=s64",
      "userId": "15981239920642596223"
     },
     "user_tz": 180
    },
    "id": "6PWx9erjncaE",
    "outputId": "754e3f29-5cd6-4a67-ed6c-ac1560274e25"
   },
   "outputs": [],
   "source": [
    "px.scatter(train4Set, x = 'V1', y = 'V2', color = 'label', color_discrete_sequence = True)"
   ]
  },
  {
   "cell_type": "code",
   "execution_count": null,
   "metadata": {
    "colab": {
     "base_uri": "https://localhost:8080/"
    },
    "executionInfo": {
     "elapsed": 256,
     "status": "ok",
     "timestamp": 1629653788990,
     "user": {
      "displayName": "alex barria",
      "photoUrl": "https://lh3.googleusercontent.com/a-/AOh14GgkLA-v3MPsmmzhwOrXJcxF37CPc0EXj-HeYQeykA=s64",
      "userId": "15981239920642596223"
     },
     "user_tz": 180
    },
    "id": "5QeXagoS7V8t",
    "outputId": "ea1c698f-b84c-44e4-9081-8e22972a5243"
   },
   "outputs": [],
   "source": [
    "[np.random.rand(), np.random.rand()]"
   ]
  },
  {
   "cell_type": "code",
   "execution_count": null,
   "metadata": {
    "executionInfo": {
     "elapsed": 260,
     "status": "ok",
     "timestamp": 1629667321013,
     "user": {
      "displayName": "alex barria",
      "photoUrl": "https://lh3.googleusercontent.com/a-/AOh14GgkLA-v3MPsmmzhwOrXJcxF37CPc0EXj-HeYQeykA=s64",
      "userId": "15981239920642596223"
     },
     "user_tz": 180
    },
    "id": "qE-CYilb81x2"
   },
   "outputs": [],
   "source": [
    "test=np.array(testSet)\n",
    "train=np.array(trainSet)"
   ]
  },
  {
   "cell_type": "code",
   "execution_count": null,
   "metadata": {
    "colab": {
     "base_uri": "https://localhost:8080/"
    },
    "executionInfo": {
     "elapsed": 245,
     "status": "ok",
     "timestamp": 1629667323423,
     "user": {
      "displayName": "alex barria",
      "photoUrl": "https://lh3.googleusercontent.com/a-/AOh14GgkLA-v3MPsmmzhwOrXJcxF37CPc0EXj-HeYQeykA=s64",
      "userId": "15981239920642596223"
     },
     "user_tz": 180
    },
    "id": "vde77514t-HC",
    "outputId": "373ecb1a-693e-4c16-fe21-03ea0045bc64"
   },
   "outputs": [],
   "source": [
    "train[0:20]"
   ]
  },
  {
   "cell_type": "code",
   "execution_count": null,
   "metadata": {
    "colab": {
     "base_uri": "https://localhost:8080/"
    },
    "executionInfo": {
     "elapsed": 280,
     "status": "ok",
     "timestamp": 1629656081727,
     "user": {
      "displayName": "alex barria",
      "photoUrl": "https://lh3.googleusercontent.com/a-/AOh14GgkLA-v3MPsmmzhwOrXJcxF37CPc0EXj-HeYQeykA=s64",
      "userId": "15981239920642596223"
     },
     "user_tz": 180
    },
    "id": "uhOUEuRCESac",
    "outputId": "eb0c8abc-ada9-4532-a7d8-6c990b64766d"
   },
   "outputs": [],
   "source": [
    "test[0:20]"
   ]
  },
  {
   "cell_type": "code",
   "execution_count": null,
   "metadata": {
    "executionInfo": {
     "elapsed": 253,
     "status": "ok",
     "timestamp": 1629656441352,
     "user": {
      "displayName": "alex barria",
      "photoUrl": "https://lh3.googleusercontent.com/a-/AOh14GgkLA-v3MPsmmzhwOrXJcxF37CPc0EXj-HeYQeykA=s64",
      "userId": "15981239920642596223"
     },
     "user_tz": 180
    },
    "id": "SFcuYowBFqba"
   },
   "outputs": [],
   "source": [
    "batch = test[0:20]  # Borrar esto dsps"
   ]
  },
  {
   "cell_type": "code",
   "execution_count": null,
   "metadata": {
    "colab": {
     "base_uri": "https://localhost:8080/"
    },
    "executionInfo": {
     "elapsed": 259,
     "status": "ok",
     "timestamp": 1629656443409,
     "user": {
      "displayName": "alex barria",
      "photoUrl": "https://lh3.googleusercontent.com/a-/AOh14GgkLA-v3MPsmmzhwOrXJcxF37CPc0EXj-HeYQeykA=s64",
      "userId": "15981239920642596223"
     },
     "user_tz": 180
    },
    "id": "NFvG80GJF8KW",
    "outputId": "9d9109a2-7544-4ea2-ad92-5dec18a7564a"
   },
   "outputs": [],
   "source": [
    "batch"
   ]
  },
  {
   "cell_type": "code",
   "execution_count": null,
   "metadata": {
    "executionInfo": {
     "elapsed": 247,
     "status": "ok",
     "timestamp": 1629668652917,
     "user": {
      "displayName": "alex barria",
      "photoUrl": "https://lh3.googleusercontent.com/a-/AOh14GgkLA-v3MPsmmzhwOrXJcxF37CPc0EXj-HeYQeykA=s64",
      "userId": "15981239920642596223"
     },
     "user_tz": 180
    },
    "id": "lTWduU4Eyh9p"
   },
   "outputs": [],
   "source": [
    "def Hinge(w, b, C, batch):\n",
    "\n",
    "  x = batch[:,0:2]\n",
    "  y = batch[:,2]\n",
    "  \n",
    "  accum = 0\n",
    "\n",
    "  for i in np.arange(0,len(batch)):\n",
    "    if (1 - (y[i] * (w @ x[i] + b))) > 0:\n",
    "      accum = accum + (1 - (y[i] * (w @ x[i] + b)))\n",
    "  \n",
    "  return 0.5 * np.linalg.norm(w) ** 2 + C * accum"
   ]
  },
  {
   "cell_type": "code",
   "execution_count": null,
   "metadata": {
    "executionInfo": {
     "elapsed": 452,
     "status": "ok",
     "timestamp": 1629666505037,
     "user": {
      "displayName": "alex barria",
      "photoUrl": "https://lh3.googleusercontent.com/a-/AOh14GgkLA-v3MPsmmzhwOrXJcxF37CPc0EXj-HeYQeykA=s64",
      "userId": "15981239920642596223"
     },
     "user_tz": 180
    },
    "id": "DH2lZ00coPGC"
   },
   "outputs": [],
   "source": [
    "def HingeGradient(c, batch, w, b):\n",
    "  # Los puntos del batch tienen que tener formato [V1 V2 Etiqueta]\n",
    "\n",
    "  x = batch[:,0:2]\n",
    "  y = batch[:,2]\n",
    "\n",
    "\n",
    "\n",
    "\n",
    "  # dJ / dw\n",
    "  accum = 0\n",
    "\n",
    "  for i in np.arange(0,len(batch)):\n",
    "    if (y[i] * (w @ x[i] + b)) < 1:\n",
    "      accum = accum - y[i] * x[i]\n",
    "  grad_jw = w + c * accum\n",
    "\n",
    "  # dJ / db\n",
    "  accum = 0\n",
    "  for i in np.arange(0,len(batch)):\n",
    "    if (y[i] * (w @ x[i] + b)) < 1:\n",
    "      accum = accum - y[i]\n",
    "  grad_jb = c * accum\n",
    "\n",
    "  return np.hstack((grad_jw, grad_jb))"
   ]
  },
  {
   "cell_type": "code",
   "execution_count": null,
   "metadata": {
    "executionInfo": {
     "elapsed": 414,
     "status": "ok",
     "timestamp": 1629669159229,
     "user": {
      "displayName": "alex barria",
      "photoUrl": "https://lh3.googleusercontent.com/a-/AOh14GgkLA-v3MPsmmzhwOrXJcxF37CPc0EXj-HeYQeykA=s64",
      "userId": "15981239920642596223"
     },
     "user_tz": 180
    },
    "id": "EG0KUaCwh6Q7"
   },
   "outputs": [],
   "source": [
    "def SGD(data, C, numEpochs, batchSize, learningRate):\n",
    "  c = C\n",
    "  lossFunc = []\n",
    "  # Inicializo de forma aleatoria W\n",
    "  #w = np.array([np.random.rand(), np.random.rand()])\n",
    "  w = [12., 40.]\n",
    "  b = 1.\n",
    "  # Inicializo de forma aleatoria W\n",
    "  #b = np.random.rand()\n",
    "\n",
    "  for i in np.arange(0, numEpochs):\n",
    "\n",
    "    # Obtengo el batch\n",
    "    np.random.shuffle(data)\n",
    "    batch = data[0:batchSize, :]\n",
    "\n",
    "    # Realizo el descenso del gradiente\n",
    "    gradient = HingeGradient(c, batch, w, b)\n",
    "\n",
    "    # Actualizo \n",
    "    w = w - learningRate * gradient[0:2]\n",
    "    b = b - learningRate * gradient[2]\n",
    "    lossFunc.append(Hinge(w, b, C, batch))\n",
    "\n",
    "\n",
    "  return np.hstack((w, b, lossFunc))"
   ]
  },
  {
   "cell_type": "code",
   "execution_count": null,
   "metadata": {
    "colab": {
     "base_uri": "https://localhost:8080/"
    },
    "executionInfo": {
     "elapsed": 4163,
     "status": "ok",
     "timestamp": 1629669203787,
     "user": {
      "displayName": "alex barria",
      "photoUrl": "https://lh3.googleusercontent.com/a-/AOh14GgkLA-v3MPsmmzhwOrXJcxF37CPc0EXj-HeYQeykA=s64",
      "userId": "15981239920642596223"
     },
     "user_tz": 180
    },
    "id": "l4i7P-9SuOe6",
    "outputId": "6b6773d3-f373-4650-99d8-c72be7635f5e"
   },
   "outputs": [],
   "source": [
    "aux = SGD(train, 1, 1000, 100, 0.01)\n",
    "print (aux)\n",
    "w = aux[0:2]\n",
    "print(w)\n",
    "b = aux[2]\n",
    "loss = aux[3:]\n",
    "print(b)"
   ]
  },
  {
   "cell_type": "code",
   "execution_count": null,
   "metadata": {
    "colab": {
     "base_uri": "https://localhost:8080/",
     "height": 296
    },
    "executionInfo": {
     "elapsed": 469,
     "status": "ok",
     "timestamp": 1629669208430,
     "user": {
      "displayName": "alex barria",
      "photoUrl": "https://lh3.googleusercontent.com/a-/AOh14GgkLA-v3MPsmmzhwOrXJcxF37CPc0EXj-HeYQeykA=s64",
      "userId": "15981239920642596223"
     },
     "user_tz": 180
    },
    "id": "etv5hr0wsneQ",
    "outputId": "4a10f3f2-d81a-438c-bb9e-38361d3596cd"
   },
   "outputs": [],
   "source": [
    "def recta(x, w, b):\n",
    "    return -w[0]*x/w[1] + b\n",
    "\n",
    "eje_x = np.linspace(-5, 5, 200)\n",
    "\n",
    "divisor = []\n",
    "for x in eje_x:\n",
    "    divisor.append(recta(x, w, b))\n",
    "\n",
    "fig, ax = plt.subplots()\n",
    "\n",
    "ax.scatter(train[:,0], train[:,1], alpha=0.5, c=train[:,2],cmap='jet')\n",
    "ax.plot(eje_x, divisor)\n",
    "ax.set_xlabel('V1')\n",
    "ax.set_ylabel('V2')"
   ]
  },
  {
   "cell_type": "code",
   "execution_count": null,
   "metadata": {
    "colab": {
     "base_uri": "https://localhost:8080/"
    },
    "executionInfo": {
     "elapsed": 264,
     "status": "ok",
     "timestamp": 1629669051429,
     "user": {
      "displayName": "alex barria",
      "photoUrl": "https://lh3.googleusercontent.com/a-/AOh14GgkLA-v3MPsmmzhwOrXJcxF37CPc0EXj-HeYQeykA=s64",
      "userId": "15981239920642596223"
     },
     "user_tz": 180
    },
    "id": "Lq1jgCSr2Ax4",
    "outputId": "bd464662-9428-48f1-c08d-3d65965a0229"
   },
   "outputs": [],
   "source": [
    "loss.shape"
   ]
  },
  {
   "cell_type": "code",
   "execution_count": null,
   "metadata": {
    "colab": {
     "base_uri": "https://localhost:8080/",
     "height": 282
    },
    "executionInfo": {
     "elapsed": 293,
     "status": "ok",
     "timestamp": 1629669214490,
     "user": {
      "displayName": "alex barria",
      "photoUrl": "https://lh3.googleusercontent.com/a-/AOh14GgkLA-v3MPsmmzhwOrXJcxF37CPc0EXj-HeYQeykA=s64",
      "userId": "15981239920642596223"
     },
     "user_tz": 180
    },
    "id": "wBD-EOR61Hmh",
    "outputId": "33017cf5-b760-4f8e-96e8-0f72a9a5d73e"
   },
   "outputs": [],
   "source": [
    "plt.plot(np.arange(0,len(loss)),loss.T)"
   ]
  },
  {
   "cell_type": "code",
   "execution_count": null,
   "metadata": {
    "colab": {
     "base_uri": "https://localhost:8080/"
    },
    "executionInfo": {
     "elapsed": 257,
     "status": "ok",
     "timestamp": 1629666706023,
     "user": {
      "displayName": "alex barria",
      "photoUrl": "https://lh3.googleusercontent.com/a-/AOh14GgkLA-v3MPsmmzhwOrXJcxF37CPc0EXj-HeYQeykA=s64",
      "userId": "15981239920642596223"
     },
     "user_tz": 180
    },
    "id": "lA111Rhwr9TB",
    "outputId": "f05e6ae3-a94f-4dd7-9c26-bb966ebe4567"
   },
   "outputs": [],
   "source": [
    "SGD(train, 0.1, 100, 100, 0.1)"
   ]
  },
  {
   "cell_type": "code",
   "execution_count": null,
   "metadata": {
    "id": "VIlzAZv6siJB"
   },
   "outputs": [],
   "source": []
  },
  {
   "cell_type": "code",
   "execution_count": null,
   "metadata": {
    "colab": {
     "base_uri": "https://localhost:8080/"
    },
    "executionInfo": {
     "elapsed": 9,
     "status": "ok",
     "timestamp": 1629664343088,
     "user": {
      "displayName": "alex barria",
      "photoUrl": "https://lh3.googleusercontent.com/a-/AOh14GgkLA-v3MPsmmzhwOrXJcxF37CPc0EXj-HeYQeykA=s64",
      "userId": "15981239920642596223"
     },
     "user_tz": 180
    },
    "id": "oXQv2fstjASR",
    "outputId": "2b57c5ff-adc5-4d2c-bfb7-8a384dec0215"
   },
   "outputs": [],
   "source": [
    "np.random.shuffle(test)\n",
    "aux = test[0:5, :]\n",
    "print(aux)"
   ]
  },
  {
   "cell_type": "code",
   "execution_count": null,
   "metadata": {
    "executionInfo": {
     "elapsed": 244,
     "status": "ok",
     "timestamp": 1629664226887,
     "user": {
      "displayName": "alex barria",
      "photoUrl": "https://lh3.googleusercontent.com/a-/AOh14GgkLA-v3MPsmmzhwOrXJcxF37CPc0EXj-HeYQeykA=s64",
      "userId": "15981239920642596223"
     },
     "user_tz": 180
    },
    "id": "-VXfVXzWjoNP"
   },
   "outputs": [],
   "source": [
    "np.random.shuffle?"
   ]
  },
  {
   "cell_type": "code",
   "execution_count": null,
   "metadata": {
    "colab": {
     "base_uri": "https://localhost:8080/"
    },
    "executionInfo": {
     "elapsed": 258,
     "status": "ok",
     "timestamp": 1629663530871,
     "user": {
      "displayName": "alex barria",
      "photoUrl": "https://lh3.googleusercontent.com/a-/AOh14GgkLA-v3MPsmmzhwOrXJcxF37CPc0EXj-HeYQeykA=s64",
      "userId": "15981239920642596223"
     },
     "user_tz": 180
    },
    "id": "eKpaJ_YWFiQG",
    "outputId": "d842a74d-3187-4527-f196-ab5499989a6c"
   },
   "outputs": [],
   "source": [
    "HingeGradient(1,batch)"
   ]
  }
 ],
 "metadata": {
  "colab": {
   "authorship_tag": "ABX9TyNhCvVRyWZ/SxWAiFgdGz9E",
   "name": "TP2_Analísis Mat IA.ipynb",
   "provenance": []
  },
  "kernelspec": {
   "display_name": "Python 3",
   "language": "python",
   "name": "python3"
  },
  "language_info": {
   "codemirror_mode": {
    "name": "ipython",
    "version": 3
   },
   "file_extension": ".py",
   "mimetype": "text/x-python",
   "name": "python",
   "nbconvert_exporter": "python",
   "pygments_lexer": "ipython3",
   "version": "3.8.5"
  }
 },
 "nbformat": 4,
 "nbformat_minor": 1
}
