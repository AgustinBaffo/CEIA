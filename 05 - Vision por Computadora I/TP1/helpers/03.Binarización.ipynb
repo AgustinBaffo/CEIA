{
 "cells": [
  {
   "cell_type": "markdown",
   "metadata": {},
   "source": [
    "# Binarización\n",
    "\n",
    "Umbral Fijo, Otsu, Bernsen"
   ]
  },
  {
   "cell_type": "code",
   "execution_count": 1,
   "metadata": {},
   "outputs": [
    {
     "name": "stdout",
     "output_type": "stream",
     "text": [
      "Using matplotlib backend: Qt5Agg\n"
     ]
    }
   ],
   "source": [
    "#Si queremos que las imágenes sean mostradas en una ventana emergente quitar el inline\n",
    "%matplotlib\n",
    "\n",
    "# OpenCV-Python utiliza NumPy para el manejo de imágenes\n",
    "import numpy as np\n",
    "# cv2 es el módulo python para acceder a OpenCV \n",
    "import cv2 as cv\n",
    "# Usamos las poderosas herramientas de graficación de matplotlib para mostrar imágenes, perfiles, histogramas, etc\n",
    "import matplotlib.pyplot as plt\n"
   ]
  },
  {
   "cell_type": "code",
   "execution_count": 2,
   "metadata": {},
   "outputs": [],
   "source": [
    "# Cargar una imagen en modo monocromático (un canal)\n",
    "#img = cv.imread('imgBloque1.bmp',cv.IMREAD_GRAYSCALE)\n",
    "img = cv.imread('mib-alien.jpg',cv.IMREAD_GRAYSCALE)"
   ]
  },
  {
   "cell_type": "markdown",
   "metadata": {},
   "source": [
    "#### Binarización por umbral fijo"
   ]
  },
  {
   "cell_type": "code",
   "execution_count": 4,
   "metadata": {},
   "outputs": [],
   "source": [
    "# Funcion de binarización (a mano)\n",
    "def global_threshold(image, thres_value, val_high, val_low):\n",
    "    img = image.copy()\n",
    "    for i in range(image.shape[0]):\n",
    "        for j in range(image.shape[1]):\n",
    "            if image[i,j] > thres_value:\n",
    "                img[i,j] = val_high\n",
    "            else:\n",
    "                img[i,j] = val_low\n",
    "    return img"
   ]
  },
  {
   "cell_type": "markdown",
   "metadata": {},
   "source": [
    "#### Comparación entre tipos de binarización (Fijo, Otsu, Mediana)"
   ]
  },
  {
   "cell_type": "code",
   "execution_count": 5,
   "metadata": {},
   "outputs": [],
   "source": [
    "# Nueva figura\n",
    "fig = plt.figure()\n",
    "\n",
    "# Imagen binarizada (a mano - Fijo)\n",
    "ax2=plt.subplot(221)\n",
    "img_bin = global_threshold(img, 120, 1, 0);\n",
    "ax2.imshow(img_bin,cmap='gray', vmin=0, vmax=1)\n",
    "ax2.set_title('Binarizada a mano')\n",
    "\n",
    "# Imagen binarizada (embebida - Fijo) - Parámetros: Imag_original,umbral,valor_máximo,método\n",
    "ax3=plt.subplot(222)\n",
    "ret, thresh = cv.threshold(img,120,255,cv.THRESH_BINARY)\n",
    "ax3.imshow(thresh,cmap='gray', vmin=0, vmax=1)\n",
    "ax3.set_title('Binarizada OpenCV, Fijo')\n",
    "\n",
    "# Imagen binarizada (embebida - Otsu) - Parámetros: Imag_original,umbral,valor_máximo,método\n",
    "ax4=plt.subplot(223)\n",
    "ret, thresh = cv.threshold(img,120,255,cv.THRESH_BINARY+cv.THRESH_OTSU)\n",
    "ax4.imshow(thresh,cmap='gray', vmin=0, vmax=1)\n",
    "ax4.set_title('Binarizada OpenCV, Otsu')\n",
    "\n",
    "# Imagen binarizada (embebida - Mediana) - Parámetros: Imag_original,valor_máximo,método adaptativo,tipo de umbral,tamaño de bloque,C\n",
    "ax4=plt.subplot(224)\n",
    "thresh = cv.adaptiveThreshold(img,255,cv.ADAPTIVE_THRESH_MEAN_C,cv.THRESH_BINARY,11,2)\n",
    "ax4.imshow(thresh,cmap='gray', vmin=0, vmax=1)\n",
    "ax4.set_title('Binarizada OpenCV, Mediana')\n",
    "\n",
    "plt.show()"
   ]
  }
 ],
 "metadata": {
  "kernelspec": {
   "display_name": "Python 3",
   "language": "python",
   "name": "python3"
  },
  "language_info": {
   "codemirror_mode": {
    "name": "ipython",
    "version": 3
   },
   "file_extension": ".py",
   "mimetype": "text/x-python",
   "name": "python",
   "nbconvert_exporter": "python",
   "pygments_lexer": "ipython3",
   "version": "3.7.7"
  }
 },
 "nbformat": 4,
 "nbformat_minor": 2
}
