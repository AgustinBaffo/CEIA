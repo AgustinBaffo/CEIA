{
 "cells": [
  {
   "cell_type": "code",
   "execution_count": 116,
   "metadata": {},
   "outputs": [],
   "source": [
    "import pandas as pd\n",
    "import numpy as np\n",
    "import math\n",
    "import scipy\n",
    "import seaborn as sns\n",
    "import matplotlib.pyplot as plt"
   ]
  },
  {
   "cell_type": "code",
   "execution_count": 45,
   "metadata": {},
   "outputs": [],
   "source": [
    "col_names = ['x','y','z']\n",
    "data_pos = pd.read_csv(\"posicion.dat\", sep=' ', names = col_names)\n",
    "data_vel = pd.read_csv(\"velocidad.dat\", sep=' ', names = col_names)\n",
    "data_ace = pd.read_csv(\"aceleracion.dat\", sep=' ', names = col_names)"
   ]
  },
  {
   "cell_type": "code",
   "execution_count": 35,
   "metadata": {},
   "outputs": [
    {
     "data": {
      "text/html": [
       "<div>\n",
       "<style scoped>\n",
       "    .dataframe tbody tr th:only-of-type {\n",
       "        vertical-align: middle;\n",
       "    }\n",
       "\n",
       "    .dataframe tbody tr th {\n",
       "        vertical-align: top;\n",
       "    }\n",
       "\n",
       "    .dataframe thead th {\n",
       "        text-align: right;\n",
       "    }\n",
       "</style>\n",
       "<table border=\"1\" class=\"dataframe\">\n",
       "  <thead>\n",
       "    <tr style=\"text-align: right;\">\n",
       "      <th></th>\n",
       "      <th>x</th>\n",
       "      <th>y</th>\n",
       "      <th>z</th>\n",
       "    </tr>\n",
       "  </thead>\n",
       "  <tbody>\n",
       "    <tr>\n",
       "      <th>0</th>\n",
       "      <td>-5.681304</td>\n",
       "      <td>3.392587</td>\n",
       "      <td>4.919538</td>\n",
       "    </tr>\n",
       "    <tr>\n",
       "      <th>1</th>\n",
       "      <td>-5.095349</td>\n",
       "      <td>2.958302</td>\n",
       "      <td>4.569240</td>\n",
       "    </tr>\n",
       "    <tr>\n",
       "      <th>2</th>\n",
       "      <td>-4.509394</td>\n",
       "      <td>2.524016</td>\n",
       "      <td>4.218942</td>\n",
       "    </tr>\n",
       "    <tr>\n",
       "      <th>3</th>\n",
       "      <td>-3.923440</td>\n",
       "      <td>2.089730</td>\n",
       "      <td>3.868644</td>\n",
       "    </tr>\n",
       "    <tr>\n",
       "      <th>4</th>\n",
       "      <td>-3.337485</td>\n",
       "      <td>1.655444</td>\n",
       "      <td>3.518346</td>\n",
       "    </tr>\n",
       "  </tbody>\n",
       "</table>\n",
       "</div>"
      ],
      "text/plain": [
       "          x         y         z\n",
       "0 -5.681304  3.392587  4.919538\n",
       "1 -5.095349  2.958302  4.569240\n",
       "2 -4.509394  2.524016  4.218942\n",
       "3 -3.923440  2.089730  3.868644\n",
       "4 -3.337485  1.655444  3.518346"
      ]
     },
     "execution_count": 35,
     "metadata": {},
     "output_type": "execute_result"
    }
   ],
   "source": [
    "data_pos.head()"
   ]
  },
  {
   "cell_type": "code",
   "execution_count": 41,
   "metadata": {},
   "outputs": [],
   "source": [
    "pos = data_pos.to_numpy()\n",
    "vel = data_pos.to_numpy()\n",
    "ace = data_ace.to_numpy()"
   ]
  },
  {
   "cell_type": "code",
   "execution_count": 134,
   "metadata": {},
   "outputs": [
    {
     "data": {
      "text/plain": [
       "<seaborn.axisgrid.FacetGrid at 0x177eb4a29d0>"
      ]
     },
     "execution_count": 134,
     "metadata": {},
     "output_type": "execute_result"
    },
    {
     "data": {
      "image/png": "[encoded data removed]",
      "text/plain": [
       "<Figure size 360x360 with 1 Axes>"
      ]
     },
     "metadata": {
      "needs_background": "light"
     },
     "output_type": "display_data"
    }
   ],
   "source": [
    "noise_u = 0\n",
    "noise_d = 10\n",
    "noise = np.random.normal(noise_u,noise_d,pos.shape)\n",
    "sns.displot(noise.reshape(-1),bins=25)"
   ]
  },
  {
   "cell_type": "code",
   "execution_count": 135,
   "metadata": {},
   "outputs": [
    {
     "name": "stdout",
     "output_type": "stream",
     "text": [
      "[[-4.73161658e+00 -5.26244288e-01  8.22801145e+00]\n",
      " [ 8.14928805e+00 -2.15898429e+01  5.96937478e+01]\n",
      " [ 5.40240575e+00 -4.17285141e+01  1.00084357e+02]\n",
      " ...\n",
      " [-5.52788598e+03 -1.96840815e+03  3.01311603e+04]\n",
      " [-5.56297346e+03 -2.00854850e+03  3.02247090e+04]\n",
      " [-5.57495245e+03 -2.02796007e+03  3.02887311e+04]]\n"
     ]
    }
   ],
   "source": [
    "noise_pos = pos + noise\n",
    "print(noise_pos)"
   ]
  },
  {
   "cell_type": "code",
   "execution_count": 137,
   "metadata": {},
   "outputs": [
    {
     "data": {
      "text/plain": [
       "<function matplotlib.pyplot.show(*args, **kw)>"
      ]
     },
     "execution_count": 137,
     "metadata": {},
     "output_type": "execute_result"
    },
    {
     "data": {
      "image/png": "[encoded data removed]",
      "text/plain": [
       "<Figure size 432x288 with 1 Axes>"
      ]
     },
     "metadata": {
      "needs_background": "light"
     },
     "output_type": "display_data"
    }
   ],
   "source": [
    "x_axis = np.linspace(0, pos.shape[0]-1, pos.shape[0])\n",
    "plt.plot(x_axis,pos[:,0])\n",
    "plt.plot(x_axis,noise_pos[:,0])\n",
    "plt.show"
   ]
  },
  {
   "cell_type": "code",
   "execution_count": 346,
   "metadata": {},
   "outputs": [],
   "source": [
    "# initial state (location, velocity, aceleration)\n",
    "x0 = np.array([10.7533, 36.6777, -45.1769, 1.1009, -17, 35.7418, -5.7247, 3.4268, 5.2774]).T\n",
    "\n",
    "# initial uncertainty\n",
    "P0 = np.diag([100, 100, 100, 1, 1, 1, 0.01, 0.01, 0.01])\n",
    "\n",
    "# Just Q\n",
    "Q = .3 * np.identity(9)\n",
    "\n",
    "# measurement uncertainty\n",
    "R = np.diag([noise_d,noise_d,noise_d])\n",
    "\n",
    "# next state function\n",
    "h = 1. # delta_t\n",
    "f_aux = np.array([[1.,h,(h**2)/2.],[0.,1.,h],[0.,0.,1.]])\n",
    "zeros3 = np.zeros([3,3])\n",
    "F = np.vstack([np.hstack([f_aux, zeros3, zeros3]), \n",
    "               np.hstack([zeros3, f_aux, zeros3]), \n",
    "               np.hstack([zeros3, zeros3, f_aux])])\n",
    "\n",
    "# measurement function\n",
    "H = np.zeros([3,9])\n",
    "for i in range(3):\n",
    "   H[i,2*i] = 1\n",
    "\n",
    "# identity matrix\n",
    "I9 = np.identity(9)"
   ]
  },
  {
   "cell_type": "code",
   "execution_count": 361,
   "metadata": {},
   "outputs": [],
   "source": [
    "x_tot = []\n",
    "p_tot = []\n",
    "x = x0\n",
    "P = P0\n",
    "\n",
    "# kalman filter\n",
    "for n in range(len(noise_pos)):\n",
    "               \n",
    "    # measurement update\n",
    "    Z = np.array(noise_pos[n]) # measurement matrix\n",
    "    y = Z - (H @ x) # error\n",
    "    S = H @ P @ H.T + R\n",
    "    K = P @ H.T @ np.linalg.inv(S) # kalman gain\n",
    "    x = x + (K @ y) # prediction\n",
    "\n",
    "    P = (I9 - K @ H) @ P # measurement update\n",
    "\n",
    "    # prediction\n",
    "    x = (F @ x)\n",
    "    P = F @ P @ F.transpose()\n",
    "    \n",
    "    x_tot.append(x)\n",
    "    p_tot.append(x)\n",
    "\n",
    "x_tot = np.array(x_tot)\n",
    "p_tot = np.array(p_tot)"
   ]
  },
  {
   "cell_type": "code",
   "execution_count": 362,
   "metadata": {},
   "outputs": [
    {
     "data": {
      "text/plain": [
       "<function matplotlib.pyplot.show(*args, **kw)>"
      ]
     },
     "execution_count": 362,
     "metadata": {},
     "output_type": "execute_result"
    },
    {
     "data": {
      "image/png": "[encoded data removed]",
      "text/plain": [
       "<Figure size 432x288 with 1 Axes>"
      ]
     },
     "metadata": {
      "needs_background": "light"
     },
     "output_type": "display_data"
    }
   ],
   "source": [
    "x_axis = np.linspace(0, pos.shape[0]-1, pos.shape[0])\n",
    "plt.plot(x_axis,x_tot[:,0])\n",
    "plt.plot(x_axis,noise_pos[:,0])\n",
    "# plt.plot(x_axis,x_tot[:,0])\n",
    "# plt.plot(x_axis,vel[:,0])\n",
    "plt.show\n"
   ]
  },
  {
   "cell_type": "code",
   "execution_count": null,
   "metadata": {},
   "outputs": [],
   "source": []
  }
 ],
 "metadata": {
  "kernelspec": {
   "display_name": "Python 3",
   "language": "python",
   "name": "python3"
  },
  "language_info": {
   "codemirror_mode": {
    "name": "ipython",
    "version": 3
   },
   "file_extension": ".py",
   "mimetype": "text/x-python",
   "name": "python",
   "nbconvert_exporter": "python",
   "pygments_lexer": "ipython3",
   "version": "3.8.5"
  }
 },
 "nbformat": 4,
 "nbformat_minor": 4
}
