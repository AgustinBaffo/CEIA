{
 "cells": [
  {
   "cell_type": "markdown",
   "source": [
    "# Ecualización de histograma\n",
    "\n",
    "Global\n",
    "Adaptativa"
   ],
   "metadata": {}
  },
  {
   "cell_type": "code",
   "execution_count": 1,
   "source": [
    "#Si queremos que las imágenes sean mostradas en una ventana emergente quitar el inline\r\n",
    "%matplotlib\r\n",
    "\r\n",
    "# OpenCV-Python utiliza NumPy para el manejo de imágenes\r\n",
    "import numpy as np\r\n",
    "# cv2 es el módulo python para acceder a OpenCV \r\n",
    "import cv2 as cv\r\n",
    "# Usamos las poderosas herramientas de graficación de matplotlib para mostrar imágenes, perfiles, histogramas, etc\r\n",
    "import matplotlib.pyplot as plt\r\n"
   ],
   "outputs": [
    {
     "output_type": "stream",
     "name": "stdout",
     "text": [
      "Using matplotlib backend: TkAgg\n"
     ]
    }
   ],
   "metadata": {}
  },
  {
   "cell_type": "code",
   "execution_count": 2,
   "source": [
    "# Cargar una imagen en modo monocromático (un canal)\r\n",
    "#img = cv.imread('imgBloque1.bmp',cv.IMREAD_GRAYSCALE)\r\n",
    "img = cv.imread('mib-alien.jpg',cv.IMREAD_GRAYSCALE)"
   ],
   "outputs": [],
   "metadata": {}
  },
  {
   "cell_type": "markdown",
   "source": [
    "#### Ejemplo: Ecualización global"
   ],
   "metadata": {}
  },
  {
   "cell_type": "code",
   "execution_count": 3,
   "source": [
    "# Nueva figura\r\n",
    "fig = plt.figure()\r\n",
    "\r\n",
    "# Imagen original\r\n",
    "ax1=plt.subplot(221)\r\n",
    "ax1.imshow(img, cmap='gray', vmin=0, vmax=255)\r\n",
    "ax1.set_title('Original')\r\n",
    "\r\n",
    "hist1,bins1 = np.histogram(img.ravel(),256,[0,256])\r\n",
    "ax3=plt.subplot(223)\r\n",
    "ax3.plot(hist1)\r\n",
    "\r\n",
    "# Imagen ecualizada\r\n",
    "img_eqzd = cv.equalizeHist(img)\r\n",
    "ax2=plt.subplot(222)\r\n",
    "ax2.imshow(img_eqzd, cmap='gray', vmin=0, vmax=255)\r\n",
    "ax2.set_title('Ecualizada')\r\n",
    "\r\n",
    "hist2,bins2 = np.histogram(img_eqzd.ravel(),256,[0,256])\r\n",
    "ax4=plt.subplot(224)\r\n",
    "ax4.plot(hist2)\r\n",
    "\r\n",
    "plt.show()\r\n"
   ],
   "outputs": [],
   "metadata": {}
  },
  {
   "cell_type": "markdown",
   "source": [
    "#### Ejemplo: CLAHE (Ecualización adaptativa)"
   ],
   "metadata": {}
  },
  {
   "cell_type": "code",
   "execution_count": 4,
   "source": [
    "# Nueva figura\r\n",
    "fig = plt.figure()\r\n",
    "\r\n",
    "# Imagen original\r\n",
    "ax1=plt.subplot(221)\r\n",
    "ax1.imshow(img, cmap='gray', vmin=0, vmax=255)\r\n",
    "ax1.set_title('Original')\r\n",
    "\r\n",
    "hist1,bins1 = np.histogram(img.ravel(),256,[0,256])\r\n",
    "ax3=plt.subplot(223)\r\n",
    "ax3.plot(hist1)\r\n",
    "\r\n",
    "# create a CLAHE object (Arguments are optional).\r\n",
    "clahe = cv.createCLAHE(clipLimit=2.0, tileGridSize=(8,8))\r\n",
    "img_eqzd = clahe.apply(img)\r\n",
    "ax2=plt.subplot(222)\r\n",
    "ax2.imshow(img_eqzd, cmap='gray', vmin=0, vmax=255)\r\n",
    "ax2.set_title('Ecualizada')\r\n",
    "\r\n",
    "hist2,bins2 = np.histogram(img_eqzd.ravel(),256,[0,256])\r\n",
    "ax4=plt.subplot(224)\r\n",
    "ax4.plot(hist2)\r\n",
    "\r\n",
    "fig.show()\r\n",
    "\r\n",
    "# Mostrar las imagenes lado a lado usando cv2.hconcat\r\n",
    "out1 = cv.hconcat([img,img_eqzd])\r\n",
    "cv.imshow('a',out1)\r\n"
   ],
   "outputs": [],
   "metadata": {}
  },
  {
   "cell_type": "code",
   "execution_count": null,
   "source": [],
   "outputs": [],
   "metadata": {}
  }
 ],
 "metadata": {
  "kernelspec": {
   "name": "python3",
   "display_name": "Python 3.8.5 64-bit ('base': conda)"
  },
  "language_info": {
   "codemirror_mode": {
    "name": "ipython",
    "version": 3
   },
   "file_extension": ".py",
   "mimetype": "text/x-python",
   "name": "python",
   "nbconvert_exporter": "python",
   "pygments_lexer": "ipython3",
   "version": "3.8.5"
  },
  "interpreter": {
   "hash": "b3ba2566441a7c06988d0923437866b63cedc61552a5af99d1f4fb67d367b25f"
  }
 },
 "nbformat": 4,
 "nbformat_minor": 2
}