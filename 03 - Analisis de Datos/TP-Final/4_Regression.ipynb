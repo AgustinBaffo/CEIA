{
 "cells": [
  {
   "cell_type": "markdown",
   "metadata": {},
   "source": [
    "# Import libraries"
   ]
  },
  {
   "cell_type": "code",
   "execution_count": 2,
   "metadata": {},
   "outputs": [],
   "source": [
    "# Import libraries\n",
    "import pandas as pd\n",
    "import numpy as np\n",
    "import sklearn\n",
    "import matplotlib\n",
    "import matplotlib.pyplot as plt\n",
    "import seaborn as sns; sns.set()\n",
    "import math\n",
    "import pickle\n",
    "\n",
    "import warnings\n",
    "warnings.filterwarnings(\"ignore\")\n",
    "\n",
    "# Train-Test\n",
    "from sklearn.model_selection import train_test_split\n",
    "\n",
    "# Normalization\n",
    "from sklearn.preprocessing import PowerTransformer\n",
    "from sklearn.preprocessing import QuantileTransformer\n",
    "\n",
    "# Feature selection\n",
    "from sklearn.decomposition import PCA\n",
    "from sklearn.feature_selection import RFE\n",
    "\n",
    "# Regression models\n",
    "from sklearn.dummy import DummyRegressor\n",
    "from sklearn.linear_model import LinearRegression\n",
    "from sklearn.preprocessing import PolynomialFeatures"
   ]
  },
  {
   "cell_type": "markdown",
   "metadata": {},
   "source": [
    "## Load data from pickle file"
   ]
  },
  {
   "cell_type": "code",
   "execution_count": 3,
   "metadata": {},
   "outputs": [],
   "source": [
    "df_train_processed = pd.read_pickle('./data/df_train_processed.pkl')\n",
    "\n",
    "open_file = open('./data/param_dict.pkl', \"rb\")\n",
    "param_dict = pickle.load(open_file)\n",
    "open_file.close()\n",
    "\n",
    "df_test_processed = pd.read_pickle('./data/df_test_processed.pkl')"
   ]
  },
  {
   "cell_type": "code",
   "execution_count": 4,
   "metadata": {},
   "outputs": [],
   "source": [
    "# Split into train/cv\n",
    "X_train, X_cv, y_train, y_cv = train_test_split(\n",
    "    df_train_processed.drop(['RainTomorrow','RainfallTomorrow'], axis=1),\n",
    "    df_train_processed['RainfallTomorrow'],\n",
    "    test_size=0.1,\n",
    "    random_state=0)"
   ]
  },
  {
   "cell_type": "code",
   "execution_count": 5,
   "metadata": {},
   "outputs": [],
   "source": [
    "from sklearn.metrics import mean_squared_error\n",
    "\n",
    "def print_results(y_pred,y_true):\n",
    "    print(\"MSE = \"+\"{:10.2f}\".format(mean_squared_error(y_pred, y_true, squared=True)))\n",
    "    print(\"RMSE = \"+\"{:10.2f}\".format(mean_squared_error(y_pred, y_true, squared=False)))"
   ]
  },
  {
   "cell_type": "markdown",
   "metadata": {},
   "source": [
    "## Feature selection: PCA"
   ]
  },
  {
   "cell_type": "code",
   "execution_count": 6,
   "metadata": {},
   "outputs": [
    {
     "name": "stdout",
     "output_type": "stream",
     "text": [
      "Number of components required to explain 0.95% of the variance = 15\n"
     ]
    }
   ],
   "source": [
    "explained_variance = .95\n",
    "pca = PCA(n_components=explained_variance).fit(X_train)\n",
    "\n",
    "X_train_pca = pca.transform(X_train)\n",
    "X_cv_pca = pca.transform(X_cv)\n",
    "\n",
    "# pca = PCA(n_components=explained_variance).fit(df_train_processed)\n",
    "# df_train_pca = pca.transform(df_train_processed)\n",
    "\n",
    "print(\"Number of components required to explain \"+str(explained_variance)+\"% of the variance = \"+str(X_train_pca.shape[1]))"
   ]
  },
  {
   "cell_type": "markdown",
   "metadata": {},
   "source": [
    "## Feature selection: RFE (with simple Logistic Regression)"
   ]
  },
  {
   "cell_type": "code",
   "execution_count": 7,
   "metadata": {},
   "outputs": [],
   "source": [
    "# logisticRegr = LogisticRegression(class_weight='balanced')\n",
    "\n",
    "# rfe = RFE(estimator=logisticRegr, step=1, verbose=0, n_features_to_select=15)\n",
    "# rfe = rfe.fit(X_train, y_train.values.ravel())\n",
    "\n",
    "# total_cols = np.array(X_train.columns.values.tolist())\n",
    "# selected_cols = total_cols[rfe.support_].tolist()\n",
    "# X_train_rfe = X_train[selected_cols]\n",
    "# X_cv_rfe =  X_cv[selected_cols]\n",
    "# print(\"Columns selected: \"+str(selected_cols))"
   ]
  },
  {
   "cell_type": "code",
   "execution_count": 8,
   "metadata": {},
   "outputs": [
    {
     "name": "stdout",
     "output_type": "stream",
     "text": [
      "R2 Score =      -0.00\n",
      "MSE =       0.99\n",
      "RMSE =       1.00\n",
      "R2 Score =       0.20\n",
      "MSE =       0.80\n",
      "RMSE =       0.89\n"
     ]
    }
   ],
   "source": [
    "X_train_ ,y_train_ ,X_cv_ ,y_cv_ = X_train_pca, y_train, X_cv_pca, y_cv\n",
    "\n",
    "# DummyRegressor\n",
    "reg = DummyRegressor(strategy=\"mean\")\n",
    "reg.fit(X_train_, y_train_)\n",
    "y_pred = reg.predict(X_cv_)\n",
    "\n",
    "print(\"R2 Score = \"+\"{:10.2f}\".format(reg.score(X_cv_, y_cv_)))\n",
    "print_results(y_pred,y_cv_)\n",
    "\n",
    "# LinearRegression\n",
    "reg = LinearRegression().fit(X_train_, y_train_)\n",
    "y_pred = reg.predict(X_cv_)\n",
    "\n",
    "print(\"R2 Score = \"+\"{:10.2f}\".format(reg.score(X_cv_, y_cv_)))\n",
    "print_results(y_pred,y_cv_)\n",
    "\n"
   ]
  },
  {
   "cell_type": "code",
   "execution_count": 11,
   "metadata": {},
   "outputs": [
    {
     "name": "stdout",
     "output_type": "stream",
     "text": [
      "\n",
      "---------------------------------\n",
      "d = 2\n",
      "MSE =       0.73\n",
      "RMSE =       0.86\n",
      "\n",
      "---------------------------------\n",
      "d = 3\n",
      "MSE =       0.71\n",
      "RMSE =       0.84\n",
      "\n",
      "---------------------------------\n",
      "d = 4\n",
      "MSE =       0.74\n",
      "RMSE =       0.86\n"
     ]
    }
   ],
   "source": [
    "from sklearn.metrics import r2_score\n",
    "# Fitting Polynomial Regression to the dataset\n",
    "degrees=[2,3,4,5,6,7]\n",
    "poly_models = []\n",
    "for d in degrees:\n",
    "    poly_reg = PolynomialFeatures(degree=d)\n",
    "    X_poly = poly_reg.fit_transform(X_train_)\n",
    "    pol_reg = LinearRegression()\n",
    "    pol_reg.fit(X_poly, y_train_)\n",
    "    \n",
    "    poly_models.append(pol_reg)\n",
    "\n",
    "    y_pred = pol_reg.predict(poly_reg.fit_transform(X_cv_))\n",
    "    \n",
    "    print(\"\\n---------------------------------\")\n",
    "    print(\"d = \"+str(d))\n",
    "    print_results(y_pred,y_cv_)"
   ]
  },
  {
   "cell_type": "code",
   "execution_count": null,
   "metadata": {},
   "outputs": [],
   "source": []
  }
 ],
 "metadata": {
  "interpreter": {
   "hash": "b3ba2566441a7c06988d0923437866b63cedc61552a5af99d1f4fb67d367b25f"
  },
  "kernelspec": {
   "display_name": "Python 3.8.5 64-bit ('base': conda)",
   "name": "python3"
  },
  "language_info": {
   "codemirror_mode": {
    "name": "ipython",
    "version": 3
   },
   "file_extension": ".py",
   "mimetype": "text/x-python",
   "name": "python",
   "nbconvert_exporter": "python",
   "pygments_lexer": "ipython3",
   "version": "3.8.5"
  },
  "orig_nbformat": 4
 },
 "nbformat": 4,
 "nbformat_minor": 2
}
