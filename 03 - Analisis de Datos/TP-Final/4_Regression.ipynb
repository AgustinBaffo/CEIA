{
 "cells": [
  {
   "cell_type": "markdown",
   "metadata": {},
   "source": [
    "# Import libraries"
   ]
  },
  {
   "cell_type": "code",
   "execution_count": 1,
   "metadata": {},
   "outputs": [],
   "source": [
    "# Import libraries\n",
    "import pandas as pd\n",
    "import numpy as np\n",
    "import sklearn\n",
    "import matplotlib\n",
    "import matplotlib.pyplot as plt\n",
    "import seaborn as sns; sns.set()\n",
    "import math\n",
    "import pickle\n",
    "\n",
    "import warnings\n",
    "warnings.filterwarnings(\"ignore\")\n",
    "\n",
    "# Train-Test\n",
    "from sklearn.model_selection import train_test_split\n",
    "\n",
    "# Feature selection\n",
    "from sklearn.decomposition import PCA\n",
    "from sklearn.feature_selection import RFE\n",
    "\n",
    "# Regression models\n",
    "from sklearn.dummy import DummyRegressor\n",
    "from sklearn.linear_model import LinearRegression\n",
    "from sklearn.preprocessing import PolynomialFeatures\n",
    "\n",
    "# Metrics\n",
    "from sklearn.metrics import mean_squared_error\n",
    "from sklearn.metrics import r2_score"
   ]
  },
  {
   "cell_type": "markdown",
   "metadata": {},
   "source": [
    "## Load data from pickle file"
   ]
  },
  {
   "cell_type": "code",
   "execution_count": 2,
   "metadata": {},
   "outputs": [],
   "source": [
    "df_train_processed = pd.read_pickle('./data/df_train_processed.pkl')\n",
    "\n",
    "open_file = open('./data/param_dict.pkl', \"rb\")\n",
    "param_dict = pickle.load(open_file)\n",
    "open_file.close()\n",
    "\n",
    "df_test_processed = pd.read_pickle('./data/df_test_processed.pkl')"
   ]
  },
  {
   "cell_type": "code",
   "execution_count": 3,
   "metadata": {},
   "outputs": [],
   "source": [
    "# Split into train/cv\n",
    "X_train, X_cv, y_train, y_cv = train_test_split(\n",
    "    df_train_processed.drop(['RainTomorrow','RainfallTomorrow'], axis=1),\n",
    "    df_train_processed['RainfallTomorrow'],\n",
    "    test_size=0.1,\n",
    "    random_state=0)"
   ]
  },
  {
   "cell_type": "code",
   "execution_count": 4,
   "metadata": {},
   "outputs": [],
   "source": [
    "\n",
    "\n",
    "def print_results(y_pred,y_true):\n",
    "    print(\"MSE = \"+\"{:10.2f}\".format(mean_squared_error(y_pred, y_true, squared=True)))\n",
    "    print(\"RMSE = \"+\"{:10.2f}\".format(mean_squared_error(y_pred, y_true, squared=False)))"
   ]
  },
  {
   "cell_type": "markdown",
   "metadata": {},
   "source": [
    "## Feature selection: PCA"
   ]
  },
  {
   "cell_type": "code",
   "execution_count": 5,
   "metadata": {},
   "outputs": [
    {
     "name": "stdout",
     "output_type": "stream",
     "text": [
      "Number of components required to explain 0.95% of the variance = 15\n"
     ]
    }
   ],
   "source": [
    "explained_variance = .95\n",
    "pca = PCA(n_components=explained_variance).fit(X_train)\n",
    "\n",
    "X_train_pca = pca.transform(X_train)\n",
    "X_cv_pca = pca.transform(X_cv)\n",
    "\n",
    "# pca = PCA(n_components=explained_variance).fit(df_train_processed)\n",
    "# df_train_pca = pca.transform(df_train_processed)\n",
    "\n",
    "print(\"Number of components required to explain \"+str(explained_variance)+\"% of the variance = \"+str(X_train_pca.shape[1]))"
   ]
  },
  {
   "cell_type": "markdown",
   "metadata": {},
   "source": [
    "## Feature selection: RFE (with simple Logistic Regression)"
   ]
  },
  {
   "cell_type": "code",
   "execution_count": 6,
   "metadata": {},
   "outputs": [
    {
     "name": "stdout",
     "output_type": "stream",
     "text": [
      "Columns selected: ['Rainfall', 'WindGustSpeed', 'WindSpeed3pm', 'Humidity3pm', 'RainToday', 'LocationType_0', 'LocationType_1', 'LocationType_2', 'LocationType_3', 'LocationType_4', 'PressureMean', 'imputed_mean', 'WindDir9am_cos', 'WindDir9am_sin', 'WindDir3pm_sin']\n"
     ]
    }
   ],
   "source": [
    "logisticRegr = LinearRegression()\n",
    "\n",
    "rfe = RFE(estimator=logisticRegr, step=1, verbose=0, n_features_to_select=15)\n",
    "rfe = rfe.fit(X_train, y_train.values.ravel())\n",
    "\n",
    "total_cols = np.array(X_train.columns.values.tolist())\n",
    "selected_cols = total_cols[rfe.support_].tolist()\n",
    "X_train_rfe = X_train[selected_cols]\n",
    "X_cv_rfe =  X_cv[selected_cols]\n",
    "print(\"Columns selected: \"+str(selected_cols))"
   ]
  },
  {
   "cell_type": "code",
   "execution_count": 13,
   "metadata": {},
   "outputs": [],
   "source": [
    "def train_models(X_train_ ,y_train_ ,X_cv_ ,y_cv_,features_selection='',degrees=[2,3,4,5]):\n",
    "\n",
    "    model_list=[]\n",
    "\n",
    "    # DummyRegressor\n",
    "    reg = DummyRegressor(strategy=\"mean\")\n",
    "    reg.fit(X_train_, y_train_)\n",
    "    y_pred = reg.predict(X_cv_)\n",
    "\n",
    "    model_list.append(\n",
    "        {'name': 'DummyRegressor',\n",
    "        'features_selection': features_selection,\n",
    "        'R2':  reg.score(X_cv_, y_cv_),\n",
    "        'MSE': mean_squared_error(y_pred, y_cv_, squared=True),\n",
    "        'RMSE': mean_squared_error(y_pred, y_cv_, squared=False),\n",
    "        # 'r2_score:': r2_score(y_pred,y_cv_),\n",
    "        'model': reg\n",
    "        }\n",
    "    )\n",
    "\n",
    "    # LinearRegression\n",
    "    reg = LinearRegression()\n",
    "    reg.fit(X_train_, y_train_)\n",
    "    y_pred = reg.predict(X_cv_)\n",
    "\n",
    "    model_list.append(\n",
    "        {'name': 'LinearRegression',\n",
    "        'features_selection': features_selection,\n",
    "        'R2': reg.score(X_cv_, y_cv_),\n",
    "        'MSE': mean_squared_error(y_pred, y_cv_, squared=True),\n",
    "        'RMSE': mean_squared_error(y_pred, y_cv_, squared=False),\n",
    "        # 'r2_score:': r2_score(y_pred,y_cv_),\n",
    "        'model': reg\n",
    "        }\n",
    "    )\n",
    "\n",
    "    # PolynomialFeatures\n",
    "    for d in degrees:\n",
    "        poly_reg = PolynomialFeatures(degree=d,interaction_only=True)\n",
    "        X_poly = poly_reg.fit_transform(X_train_)\n",
    "\n",
    "        pol_reg = LinearRegression()\n",
    "        pol_reg.fit(X_poly, y_train_)\n",
    "\n",
    "        y_pred = pol_reg.predict(poly_reg.fit_transform(X_cv_))\n",
    "        model_list.append(\n",
    "            {'name': 'PolynomialFeatures_'+str(d),\n",
    "            'features_selection': features_selection,\n",
    "            'R2': None,\n",
    "            'MSE': mean_squared_error(y_pred, y_cv_, squared=True),\n",
    "            'RMSE': mean_squared_error(y_pred, y_cv_, squared=False),\n",
    "             # 'r2_score:': r2_score(y_pred,y_cv_),\n",
    "            'model': reg\n",
    "        }\n",
    "    )\n",
    "\n",
    "    return model_list"
   ]
  },
  {
   "cell_type": "code",
   "execution_count": 14,
   "metadata": {},
   "outputs": [],
   "source": [
    "model_list=[]\n",
    "        \n",
    "model_list_pca = train_models(X_train_pca, y_train, X_cv_pca, y_cv, features_selection='PCA')\n",
    "model_list_rfe = train_models(X_train_rfe, y_train, X_cv_rfe, y_cv, features_selection='RFE')\n",
    "\n",
    "model_list = model_list_pca+model_list_rfe"
   ]
  },
  {
   "cell_type": "code",
   "execution_count": 18,
   "metadata": {},
   "outputs": [
    {
     "data": {
      "text/html": [
       "<div>\n",
       "<style scoped>\n",
       "    .dataframe tbody tr th:only-of-type {\n",
       "        vertical-align: middle;\n",
       "    }\n",
       "\n",
       "    .dataframe tbody tr th {\n",
       "        vertical-align: top;\n",
       "    }\n",
       "\n",
       "    .dataframe thead th {\n",
       "        text-align: right;\n",
       "    }\n",
       "</style>\n",
       "<table border=\"1\" class=\"dataframe\">\n",
       "  <thead>\n",
       "    <tr style=\"text-align: right;\">\n",
       "      <th></th>\n",
       "      <th>name</th>\n",
       "      <th>features_selection</th>\n",
       "      <th>RMSE</th>\n",
       "      <th>MSE</th>\n",
       "      <th>model</th>\n",
       "    </tr>\n",
       "  </thead>\n",
       "  <tbody>\n",
       "    <tr>\n",
       "      <th>0</th>\n",
       "      <td>DummyRegressor</td>\n",
       "      <td>pca</td>\n",
       "      <td>9.958106e-01</td>\n",
       "      <td>9.916387e-01</td>\n",
       "      <td>DummyRegressor()</td>\n",
       "    </tr>\n",
       "    <tr>\n",
       "      <th>1</th>\n",
       "      <td>LinearRegression</td>\n",
       "      <td>pca</td>\n",
       "      <td>8.926976e-01</td>\n",
       "      <td>7.969089e-01</td>\n",
       "      <td>LinearRegression()</td>\n",
       "    </tr>\n",
       "    <tr>\n",
       "      <th>2</th>\n",
       "      <td>PolynomialFeatures_2</td>\n",
       "      <td>pca</td>\n",
       "      <td>8.655213e-01</td>\n",
       "      <td>7.491271e-01</td>\n",
       "      <td>LinearRegression()</td>\n",
       "    </tr>\n",
       "    <tr>\n",
       "      <th>3</th>\n",
       "      <td>PolynomialFeatures_3</td>\n",
       "      <td>pca</td>\n",
       "      <td>8.537782e-01</td>\n",
       "      <td>7.289372e-01</td>\n",
       "      <td>LinearRegression()</td>\n",
       "    </tr>\n",
       "    <tr>\n",
       "      <th>4</th>\n",
       "      <td>PolynomialFeatures_4</td>\n",
       "      <td>pca</td>\n",
       "      <td>8.586897e-01</td>\n",
       "      <td>7.373480e-01</td>\n",
       "      <td>LinearRegression()</td>\n",
       "    </tr>\n",
       "    <tr>\n",
       "      <th>5</th>\n",
       "      <td>PolynomialFeatures_5</td>\n",
       "      <td>pca</td>\n",
       "      <td>8.988511e-01</td>\n",
       "      <td>8.079334e-01</td>\n",
       "      <td>LinearRegression()</td>\n",
       "    </tr>\n",
       "    <tr>\n",
       "      <th>6</th>\n",
       "      <td>DummyRegressor</td>\n",
       "      <td>rfe</td>\n",
       "      <td>9.958106e-01</td>\n",
       "      <td>9.916387e-01</td>\n",
       "      <td>DummyRegressor()</td>\n",
       "    </tr>\n",
       "    <tr>\n",
       "      <th>7</th>\n",
       "      <td>LinearRegression</td>\n",
       "      <td>rfe</td>\n",
       "      <td>8.896725e-01</td>\n",
       "      <td>7.915172e-01</td>\n",
       "      <td>LinearRegression()</td>\n",
       "    </tr>\n",
       "    <tr>\n",
       "      <th>8</th>\n",
       "      <td>PolynomialFeatures_2</td>\n",
       "      <td>rfe</td>\n",
       "      <td>8.609494e-01</td>\n",
       "      <td>7.412339e-01</td>\n",
       "      <td>LinearRegression()</td>\n",
       "    </tr>\n",
       "    <tr>\n",
       "      <th>9</th>\n",
       "      <td>PolynomialFeatures_3</td>\n",
       "      <td>rfe</td>\n",
       "      <td>8.583342e-01</td>\n",
       "      <td>7.367376e-01</td>\n",
       "      <td>LinearRegression()</td>\n",
       "    </tr>\n",
       "    <tr>\n",
       "      <th>10</th>\n",
       "      <td>PolynomialFeatures_4</td>\n",
       "      <td>rfe</td>\n",
       "      <td>6.764138e+07</td>\n",
       "      <td>4.575356e+15</td>\n",
       "      <td>LinearRegression()</td>\n",
       "    </tr>\n",
       "    <tr>\n",
       "      <th>11</th>\n",
       "      <td>PolynomialFeatures_5</td>\n",
       "      <td>rfe</td>\n",
       "      <td>5.303816e+00</td>\n",
       "      <td>2.813047e+01</td>\n",
       "      <td>LinearRegression()</td>\n",
       "    </tr>\n",
       "  </tbody>\n",
       "</table>\n",
       "</div>"
      ],
      "text/plain": [
       "                    name features_selection          RMSE           MSE  \\\n",
       "0         DummyRegressor                pca  9.958106e-01  9.916387e-01   \n",
       "1       LinearRegression                pca  8.926976e-01  7.969089e-01   \n",
       "2   PolynomialFeatures_2                pca  8.655213e-01  7.491271e-01   \n",
       "3   PolynomialFeatures_3                pca  8.537782e-01  7.289372e-01   \n",
       "4   PolynomialFeatures_4                pca  8.586897e-01  7.373480e-01   \n",
       "5   PolynomialFeatures_5                pca  8.988511e-01  8.079334e-01   \n",
       "6         DummyRegressor                rfe  9.958106e-01  9.916387e-01   \n",
       "7       LinearRegression                rfe  8.896725e-01  7.915172e-01   \n",
       "8   PolynomialFeatures_2                rfe  8.609494e-01  7.412339e-01   \n",
       "9   PolynomialFeatures_3                rfe  8.583342e-01  7.367376e-01   \n",
       "10  PolynomialFeatures_4                rfe  6.764138e+07  4.575356e+15   \n",
       "11  PolynomialFeatures_5                rfe  5.303816e+00  2.813047e+01   \n",
       "\n",
       "                 model  \n",
       "0     DummyRegressor()  \n",
       "1   LinearRegression()  \n",
       "2   LinearRegression()  \n",
       "3   LinearRegression()  \n",
       "4   LinearRegression()  \n",
       "5   LinearRegression()  \n",
       "6     DummyRegressor()  \n",
       "7   LinearRegression()  \n",
       "8   LinearRegression()  \n",
       "9   LinearRegression()  \n",
       "10  LinearRegression()  \n",
       "11  LinearRegression()  "
      ]
     },
     "execution_count": 18,
     "metadata": {},
     "output_type": "execute_result"
    }
   ],
   "source": [
    "models_df = None\n",
    "column_names = [\"name\",\"features_selection\",\"RMSE\",\"MSE\",\"model\"]\n",
    "models_df = pd.DataFrame(columns=column_names)\n",
    "for m in model_list:\n",
    "    m_append = []\n",
    "    for col in column_names:\n",
    "        m_append.append(m[col])\n",
    "    m_series = pd.Series(m_append, index = models_df.columns)\n",
    "    models_df = models_df.append(m_series, ignore_index=True)\n",
    "models_df"
   ]
  },
  {
   "cell_type": "code",
   "execution_count": 19,
   "metadata": {},
   "outputs": [],
   "source": [
    "# Save\n",
    "open_file = open('./data/reg_list.pkl', \"wb\")\n",
    "pickle.dump(model_list, open_file)\n",
    "open_file.close()\n",
    "\n",
    "models_df.to_pickle('./data/reg_df.pkl')\n",
    "\n",
    "\n",
    "# Load\n",
    "# open_file = open('./data/reg_list.pkl', \"rb\")\n",
    "# model_list = pickle.load(open_file)\n",
    "# open_file.close()\n",
    "\n",
    "# models_df = pd.read_pickle('./data/reg_df.pkl')"
   ]
  },
  {
   "cell_type": "code",
   "execution_count": 21,
   "metadata": {},
   "outputs": [
    {
     "name": "stdout",
     "output_type": "stream",
     "text": [
      "best RMSE =       0.85:\tPolynomialFeatures_3 (pca)\n"
     ]
    }
   ],
   "source": [
    "metrics_list=[\"RMSE\"]\n",
    "for met in metrics_list:\n",
    "    idx = models_df[met].argmin()\n",
    "    name = models_df.iloc[idx][\"name\"] \n",
    "    features_selection = models_df.iloc[idx][\"features_selection\"] \n",
    "    value = models_df.iloc[idx][met]\n",
    "    print(\"best \"+str(met)+\" = \"+\"{:10.2f}\".format(value)+\":\\t\"+str(name)+\" (\"+str(features_selection)+\")\")\n"
   ]
  },
  {
   "cell_type": "code",
   "execution_count": null,
   "metadata": {},
   "outputs": [],
   "source": []
  }
 ],
 "metadata": {
  "interpreter": {
   "hash": "b3ba2566441a7c06988d0923437866b63cedc61552a5af99d1f4fb67d367b25f"
  },
  "kernelspec": {
   "display_name": "Python 3.8.5 64-bit ('base': conda)",
   "name": "python3"
  },
  "language_info": {
   "codemirror_mode": {
    "name": "ipython",
    "version": 3
   },
   "file_extension": ".py",
   "mimetype": "text/x-python",
   "name": "python",
   "nbconvert_exporter": "python",
   "pygments_lexer": "ipython3",
   "version": "3.8.5"
  },
  "orig_nbformat": 4
 },
 "nbformat": 4,
 "nbformat_minor": 2
}
