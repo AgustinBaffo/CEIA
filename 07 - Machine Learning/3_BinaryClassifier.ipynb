{
 "cells": [
  {
   "cell_type": "markdown",
   "metadata": {},
   "source": [
    "# Import libraries"
   ]
  },
  {
   "cell_type": "code",
   "execution_count": 38,
   "metadata": {},
   "outputs": [],
   "source": [
    "# Import libraries\n",
    "import pandas as pd\n",
    "import numpy as np\n",
    "import matplotlib.pyplot as plt\n",
    "import seaborn as sns; sns.set()\n",
    "import math\n",
    "import pickle\n",
    "\n",
    "import warnings\n",
    "warnings.filterwarnings(\"ignore\")\n",
    "\n",
    "# Train-Test\n",
    "from sklearn.model_selection import train_test_split\n",
    "\n",
    "# Feature selection\n",
    "from sklearn.decomposition import PCA\n",
    "from sklearn.feature_selection import RFE\n",
    "\n",
    "# Classification models\n",
    "from sklearn.dummy import DummyClassifier\n",
    "from sklearn.linear_model import SGDClassifier\n",
    "from sklearn.linear_model import LogisticRegression\n",
    "# from sklearn.neighbors import KNeighborsClassifier\n",
    "from sklearn.tree import DecisionTreeClassifier\n",
    "from sklearn.ensemble import RandomForestClassifier\n",
    "# from sklearn.ensemble import AdaBoostClassifier\n",
    "\n",
    "from sklearn import metrics\n",
    "from sklearn.model_selection import GridSearchCV"
   ]
  },
  {
   "cell_type": "markdown",
   "metadata": {},
   "source": [
    "## Load data from pickle file"
   ]
  },
  {
   "cell_type": "code",
   "execution_count": 2,
   "metadata": {},
   "outputs": [],
   "source": [
    "df_train_processed = pd.read_pickle('./data/df_train_processed.pkl')\n",
    "\n",
    "open_file = open('./data/df_param_dict.pkl', \"rb\")\n",
    "param_dict = pickle.load(open_file)\n",
    "open_file.close()\n",
    "\n",
    "df_test_processed = pd.read_pickle('./data/df_test_processed.pkl')"
   ]
  },
  {
   "cell_type": "code",
   "execution_count": 3,
   "metadata": {},
   "outputs": [],
   "source": [
    "# Split into train/cv\n",
    "X_train, X_cv, y_train, y_cv = train_test_split(\n",
    "    df_train_processed.drop(['Potability'], axis=1),\n",
    "    df_train_processed['Potability'],\n",
    "    test_size=0.1,\n",
    "    random_state=0,   \n",
    "    stratify=df_train_processed['Potability'])"
   ]
  },
  {
   "cell_type": "markdown",
   "metadata": {},
   "source": [
    "## Feature selection: PCA"
   ]
  },
  {
   "cell_type": "code",
   "execution_count": 4,
   "metadata": {},
   "outputs": [
    {
     "name": "stdout",
     "output_type": "stream",
     "text": [
      "Number of components required to explain 0.95% of the variance = 9\n"
     ]
    }
   ],
   "source": [
    "explained_variance = .95\n",
    "pca = PCA(n_components=explained_variance).fit(X_train)\n",
    "\n",
    "X_train_pca = pca.transform(X_train)\n",
    "X_cv_pca = pca.transform(X_cv)\n",
    "\n",
    "print(\"Number of components required to explain \"+str(explained_variance)+\"% of the variance = \"+str(X_train_pca.shape[1]))"
   ]
  },
  {
   "cell_type": "markdown",
   "metadata": {},
   "source": [
    "## Feature selection: RFE (with simple Logistic Regression)"
   ]
  },
  {
   "cell_type": "code",
   "execution_count": 5,
   "metadata": {},
   "outputs": [
    {
     "name": "stdout",
     "output_type": "stream",
     "text": [
      "Columns selected: ['Trihalomethanes_imputed', 'Sulfate', 'Hardness', 'Chloramines', 'Conductivity', 'Organic_carbon', 'Trihalomethanes', 'ph_imputed', 'Sulfate_imputed']\n"
     ]
    }
   ],
   "source": [
    "logisticRegr = LogisticRegression(class_weight='balanced')\n",
    "\n",
    "rfe = RFE(estimator=logisticRegr, step=1, verbose=0, n_features_to_select=9)\n",
    "rfe = rfe.fit(X_train, y_train.values.ravel())\n",
    "\n",
    "total_cols = np.array(X_train.columns.values.tolist())\n",
    "selected_cols = total_cols[rfe.support_].tolist()\n",
    "X_train_rfe = X_train[selected_cols]\n",
    "X_cv_rfe =  X_cv[selected_cols]\n",
    "print(\"Columns selected: \"+str(selected_cols))"
   ]
  },
  {
   "cell_type": "code",
   "execution_count": 6,
   "metadata": {},
   "outputs": [],
   "source": [
    "# Save data\n",
    "open_file = open('./data/clf_pca.pkl', \"wb\")\n",
    "pickle.dump(pca, open_file)\n",
    "open_file.close()\n",
    "\n",
    "open_file = open('./data/clf_rfe_cols.pkl', \"wb\")\n",
    "pickle.dump(selected_cols, open_file)\n",
    "open_file.close()"
   ]
  },
  {
   "cell_type": "markdown",
   "metadata": {},
   "source": [
    "# Train Models"
   ]
  },
  {
   "cell_type": "code",
   "execution_count": 7,
   "metadata": {},
   "outputs": [],
   "source": [
    "def testModel(clf_,grid_values_,X_train_,y_train_,X_cv_,y_cv_,scoring_='f1',verbose_=0):\n",
    "    # model.get_params() # Return selected params\n",
    "    # cv=None -> None, to use the default 5-fold cross validation (K-Fold, k=5)\n",
    "    model_ = GridSearchCV(clf_, param_grid = grid_values_, cv=None, scoring=scoring_,verbose=verbose_)\n",
    "    model_.fit(X_train_, y_train_)\n",
    "\n",
    "    y_pred = model_.predict(X_cv_)\n",
    "    metrics_={    \n",
    "        \"accuracy\":         metrics.accuracy_score(y_cv_, y_pred),\n",
    "        \"precision\":        metrics.precision_score(y_cv_, y_pred),\n",
    "        \"recall\":           metrics.recall_score(y_cv_, y_pred),\n",
    "        \"f1_score\":         metrics.f1_score(y_cv_, y_pred),\n",
    "        \"confusion_matrix\": metrics.confusion_matrix(y_cv_, y_pred)\n",
    "    }\n",
    "    return model_, metrics_\n",
    "\n",
    "def train_models(X_train_, y_train_, X_cv_, y_cv_, features_selection='',add_dummy=False):\n",
    "    model_list=[]\n",
    "\n",
    "    # Dummy Classifier\n",
    "    if add_dummy:\n",
    "        clf = DummyClassifier(strategy= 'most_frequent')\n",
    "        grid_values={}\n",
    "        model, model_metrics = testModel(clf,grid_values,X_train_,y_train_,X_cv_,y_cv_)\n",
    "        model_list.append(\n",
    "            {'name': 'DummyClassifier',\n",
    "            'model': model,\n",
    "            'features_selection': features_selection,\n",
    "            'metrics': model_metrics\n",
    "            }\n",
    "        )\n",
    "\n",
    "    # LogisticRegression\n",
    "    clf = LogisticRegression(class_weight='balanced')\n",
    "    grid_values = {\n",
    "        'penalty': ['l2',None],\n",
    "        'C': [0.01,.1,1,10],\n",
    "        }\n",
    "\n",
    "    model, model_metrics = testModel(clf,grid_values,X_train_,y_train_,X_cv_,y_cv_)\n",
    "    model_list.append(\n",
    "        {'name': 'LogisticRegression',\n",
    "        'model': model,\n",
    "        'features_selection': features_selection,\n",
    "        'metrics': model_metrics  \n",
    "        }\n",
    "    )\n",
    "\n",
    "    # SGDClassifier\n",
    "    # Linear classifiers (SVM, logistic regression, etc.) with SGD training. \n",
    "    # For best results using the default learning rate schedule, the data should have zero mean and unit variance.\n",
    "    loss_list = [           # List of models\n",
    "        'hinge',            # SVM\n",
    "        'log',              # Logistic Regression\n",
    "        'squared_hinge',    # Like hinge but quadratically penalized\n",
    "    ]\n",
    "\n",
    "    for loss in loss_list:\n",
    "        grid_values = {\n",
    "            'l1_ratio': [0,0.25,0.5,0.75,1], # (0 <= l1_ratio <= 1): l1_ratio=0 corresponds to L2 penalty, l1_ratio=1 to L1\n",
    "            'alpha': [0.01,.1,1,10], # The higher the value, the stronger the regularization. Also used to compute the learning rate when set to learning_rate is set to ‘optimal’.\n",
    "            'eta0': [0.001,0.1,1] # Initial learning rate\n",
    "            }\n",
    "\n",
    "        clf = SGDClassifier(class_weight='balanced', verbose=0, max_iter=1000, tol=1e-3, penalty='elasticnet',\n",
    "                            learning_rate='optimal', early_stopping=True, validation_fraction=0.1, \n",
    "                            n_iter_no_change=5, loss=loss)\n",
    "\n",
    "        model, model_metrics = testModel(clf,grid_values,X_train_,y_train_,X_cv_,y_cv_)\n",
    "        model_list.append(\n",
    "            {'name': 'SGDClassifier_'+str(loss),\n",
    "            'model': model,\n",
    "            'features_selection': features_selection,\n",
    "            'metrics': model_metrics    \n",
    "            }\n",
    "        )\n",
    "\n",
    "    # DecisionTreeClassifier\n",
    "    clf = DecisionTreeClassifier(class_weight='balanced')\n",
    "    grid_values = {}\n",
    "    X_train_,y_train_,X_cv_,y_cv_ = X_train_pca, y_train, X_cv_pca, y_cv\n",
    "    model, model_metrics = testModel(clf,grid_values,X_train_,y_train_,X_cv_,y_cv_)\n",
    "    model_list.append(\n",
    "        {'name': 'DecisionTreeClassifier',\n",
    "        'model': model,\n",
    "        'features_selection': features_selection,\n",
    "        'metrics': model_metrics    \n",
    "        }\n",
    "    )\n",
    "\n",
    "    # RandomForestClassifier\n",
    "    clf = RandomForestClassifier(criterion=\"entropy\",class_weight='balanced')\n",
    "    grid_values = {}\n",
    "    X_train_,y_train_,X_cv_,y_cv_ = X_train_pca, y_train, X_cv_pca, y_cv\n",
    "    model, model_metrics = testModel(clf,grid_values,X_train_,y_train_,X_cv_,y_cv_)\n",
    "    model_list.append(\n",
    "        {'name': 'RandomForestClassifier',\n",
    "        'model': model,\n",
    "        'features_selection': features_selection,\n",
    "        'metrics': model_metrics    \n",
    "        }\n",
    "    )\n",
    "\n",
    "    return model_list"
   ]
  },
  {
   "cell_type": "code",
   "execution_count": 8,
   "metadata": {},
   "outputs": [],
   "source": [
    "model_list_pca = train_models(X_train_pca, y_train, X_cv_pca, y_cv, features_selection='PCA')\n",
    "model_list_rfe = train_models(X_train_rfe, y_train, X_cv_rfe, y_cv, features_selection='RFE')\n",
    "\n",
    "model_list = model_list_pca+model_list_rfe"
   ]
  },
  {
   "cell_type": "code",
   "execution_count": 9,
   "metadata": {},
   "outputs": [
    {
     "data": {
      "text/html": [
       "<div>\n",
       "<style scoped>\n",
       "    .dataframe tbody tr th:only-of-type {\n",
       "        vertical-align: middle;\n",
       "    }\n",
       "\n",
       "    .dataframe tbody tr th {\n",
       "        vertical-align: top;\n",
       "    }\n",
       "\n",
       "    .dataframe thead th {\n",
       "        text-align: right;\n",
       "    }\n",
       "</style>\n",
       "<table border=\"1\" class=\"dataframe\">\n",
       "  <thead>\n",
       "    <tr style=\"text-align: right;\">\n",
       "      <th></th>\n",
       "      <th>name</th>\n",
       "      <th>features_selection</th>\n",
       "      <th>accuracy</th>\n",
       "      <th>precision</th>\n",
       "      <th>recall</th>\n",
       "      <th>f1_score</th>\n",
       "      <th>confusion_matrix</th>\n",
       "    </tr>\n",
       "  </thead>\n",
       "  <tbody>\n",
       "    <tr>\n",
       "      <th>0</th>\n",
       "      <td>LogisticRegression</td>\n",
       "      <td>PCA</td>\n",
       "      <td>0.539634</td>\n",
       "      <td>0.532934</td>\n",
       "      <td>0.549383</td>\n",
       "      <td>0.541033</td>\n",
       "      <td>[[88, 78], [73, 89]]</td>\n",
       "    </tr>\n",
       "    <tr>\n",
       "      <th>1</th>\n",
       "      <td>SGDClassifier_hinge</td>\n",
       "      <td>PCA</td>\n",
       "      <td>0.551829</td>\n",
       "      <td>0.525424</td>\n",
       "      <td>0.956790</td>\n",
       "      <td>0.678337</td>\n",
       "      <td>[[26, 140], [7, 155]]</td>\n",
       "    </tr>\n",
       "    <tr>\n",
       "      <th>2</th>\n",
       "      <td>SGDClassifier_log</td>\n",
       "      <td>PCA</td>\n",
       "      <td>0.493902</td>\n",
       "      <td>0.493902</td>\n",
       "      <td>1.000000</td>\n",
       "      <td>0.661224</td>\n",
       "      <td>[[0, 166], [0, 162]]</td>\n",
       "    </tr>\n",
       "    <tr>\n",
       "      <th>3</th>\n",
       "      <td>SGDClassifier_squared_hinge</td>\n",
       "      <td>PCA</td>\n",
       "      <td>0.493902</td>\n",
       "      <td>0.493902</td>\n",
       "      <td>1.000000</td>\n",
       "      <td>0.661224</td>\n",
       "      <td>[[0, 166], [0, 162]]</td>\n",
       "    </tr>\n",
       "    <tr>\n",
       "      <th>4</th>\n",
       "      <td>DecisionTreeClassifier</td>\n",
       "      <td>PCA</td>\n",
       "      <td>0.685976</td>\n",
       "      <td>0.672515</td>\n",
       "      <td>0.709877</td>\n",
       "      <td>0.690691</td>\n",
       "      <td>[[110, 56], [47, 115]]</td>\n",
       "    </tr>\n",
       "    <tr>\n",
       "      <th>5</th>\n",
       "      <td>RandomForestClassifier</td>\n",
       "      <td>PCA</td>\n",
       "      <td>0.707317</td>\n",
       "      <td>0.722973</td>\n",
       "      <td>0.660494</td>\n",
       "      <td>0.690323</td>\n",
       "      <td>[[125, 41], [55, 107]]</td>\n",
       "    </tr>\n",
       "    <tr>\n",
       "      <th>6</th>\n",
       "      <td>LogisticRegression</td>\n",
       "      <td>RFE</td>\n",
       "      <td>0.518293</td>\n",
       "      <td>0.510526</td>\n",
       "      <td>0.598765</td>\n",
       "      <td>0.551136</td>\n",
       "      <td>[[73, 93], [65, 97]]</td>\n",
       "    </tr>\n",
       "    <tr>\n",
       "      <th>7</th>\n",
       "      <td>SGDClassifier_hinge</td>\n",
       "      <td>RFE</td>\n",
       "      <td>0.506098</td>\n",
       "      <td>0.000000</td>\n",
       "      <td>0.000000</td>\n",
       "      <td>0.000000</td>\n",
       "      <td>[[166, 0], [162, 0]]</td>\n",
       "    </tr>\n",
       "    <tr>\n",
       "      <th>8</th>\n",
       "      <td>SGDClassifier_log</td>\n",
       "      <td>RFE</td>\n",
       "      <td>0.493902</td>\n",
       "      <td>0.493902</td>\n",
       "      <td>1.000000</td>\n",
       "      <td>0.661224</td>\n",
       "      <td>[[0, 166], [0, 162]]</td>\n",
       "    </tr>\n",
       "    <tr>\n",
       "      <th>9</th>\n",
       "      <td>SGDClassifier_squared_hinge</td>\n",
       "      <td>RFE</td>\n",
       "      <td>0.493902</td>\n",
       "      <td>0.493902</td>\n",
       "      <td>1.000000</td>\n",
       "      <td>0.661224</td>\n",
       "      <td>[[0, 166], [0, 162]]</td>\n",
       "    </tr>\n",
       "    <tr>\n",
       "      <th>10</th>\n",
       "      <td>DecisionTreeClassifier</td>\n",
       "      <td>RFE</td>\n",
       "      <td>0.679878</td>\n",
       "      <td>0.662857</td>\n",
       "      <td>0.716049</td>\n",
       "      <td>0.688427</td>\n",
       "      <td>[[107, 59], [46, 116]]</td>\n",
       "    </tr>\n",
       "    <tr>\n",
       "      <th>11</th>\n",
       "      <td>RandomForestClassifier</td>\n",
       "      <td>RFE</td>\n",
       "      <td>0.753049</td>\n",
       "      <td>0.787234</td>\n",
       "      <td>0.685185</td>\n",
       "      <td>0.732673</td>\n",
       "      <td>[[136, 30], [51, 111]]</td>\n",
       "    </tr>\n",
       "  </tbody>\n",
       "</table>\n",
       "</div>"
      ],
      "text/plain": [
       "                           name features_selection  accuracy  precision  \\\n",
       "0            LogisticRegression                PCA  0.539634   0.532934   \n",
       "1           SGDClassifier_hinge                PCA  0.551829   0.525424   \n",
       "2             SGDClassifier_log                PCA  0.493902   0.493902   \n",
       "3   SGDClassifier_squared_hinge                PCA  0.493902   0.493902   \n",
       "4        DecisionTreeClassifier                PCA  0.685976   0.672515   \n",
       "5        RandomForestClassifier                PCA  0.707317   0.722973   \n",
       "6            LogisticRegression                RFE  0.518293   0.510526   \n",
       "7           SGDClassifier_hinge                RFE  0.506098   0.000000   \n",
       "8             SGDClassifier_log                RFE  0.493902   0.493902   \n",
       "9   SGDClassifier_squared_hinge                RFE  0.493902   0.493902   \n",
       "10       DecisionTreeClassifier                RFE  0.679878   0.662857   \n",
       "11       RandomForestClassifier                RFE  0.753049   0.787234   \n",
       "\n",
       "      recall  f1_score        confusion_matrix  \n",
       "0   0.549383  0.541033    [[88, 78], [73, 89]]  \n",
       "1   0.956790  0.678337   [[26, 140], [7, 155]]  \n",
       "2   1.000000  0.661224    [[0, 166], [0, 162]]  \n",
       "3   1.000000  0.661224    [[0, 166], [0, 162]]  \n",
       "4   0.709877  0.690691  [[110, 56], [47, 115]]  \n",
       "5   0.660494  0.690323  [[125, 41], [55, 107]]  \n",
       "6   0.598765  0.551136    [[73, 93], [65, 97]]  \n",
       "7   0.000000  0.000000    [[166, 0], [162, 0]]  \n",
       "8   1.000000  0.661224    [[0, 166], [0, 162]]  \n",
       "9   1.000000  0.661224    [[0, 166], [0, 162]]  \n",
       "10  0.716049  0.688427  [[107, 59], [46, 116]]  \n",
       "11  0.685185  0.732673  [[136, 30], [51, 111]]  "
      ]
     },
     "execution_count": 9,
     "metadata": {},
     "output_type": "execute_result"
    }
   ],
   "source": [
    "models_df = None\n",
    "column_names = [\"name\",\"features_selection\",\"accuracy\",\"precision\",\"recall\",\"f1_score\",\"confusion_matrix\",\"model\"]\n",
    "models_df = pd.DataFrame(columns=column_names)\n",
    "for m in model_list:\n",
    "    m_append = []\n",
    "    m_append.append(m[\"name\"])\n",
    "    m_append.append(m[\"features_selection\"])\n",
    "    m_append.append(m[\"metrics\"][\"accuracy\"])\n",
    "    m_append.append(m[\"metrics\"][\"precision\"])\n",
    "    m_append.append(m[\"metrics\"][\"recall\"])\n",
    "    m_append.append(m[\"metrics\"][\"f1_score\"])\n",
    "    m_append.append(m[\"metrics\"][\"confusion_matrix\"])\n",
    "    m_append.append(m[\"model\"])\n",
    "    m_series = pd.Series(m_append, index = models_df.columns)\n",
    "    models_df = models_df.append(m_series, ignore_index=True)\n",
    "models_df[['name','features_selection','accuracy','precision','recall','f1_score',\"confusion_matrix\"]]"
   ]
  },
  {
   "cell_type": "code",
   "execution_count": 50,
   "metadata": {},
   "outputs": [],
   "source": [
    "import tensorflow as tf\n",
    "from tensorflow import keras\n",
    "\n",
    "from keras.models import Sequential\n",
    "from keras.layers import Dense\n",
    "from keras.layers import Dropout\n",
    "from keras.utils.vis_utils import plot_model"
   ]
  },
  {
   "cell_type": "code",
   "execution_count": 89,
   "metadata": {},
   "outputs": [],
   "source": [
    "def create_model():\n",
    "  # create model\n",
    "  model = tf.keras.models.Sequential()\n",
    "  model.add(tf.keras.layers.Dense(50))\n",
    "  model.add(tf.keras.layers.Activation('relu'))\n",
    "  model.add(tf.keras.layers.Dense(50))\n",
    "  model.add(tf.keras.layers.Activation('relu'))\n",
    "  model.add(tf.keras.layers.Dense(1))\n",
    "  model.add(tf.keras.layers.Activation('sigmoid'))\n",
    "\n",
    "  return model\n",
    "\n",
    "model = create_model()\n",
    "\n",
    "model.compile(\n",
    "    optimizer=tf.keras.optimizers.Adam(learning_rate=0.01),\n",
    "    loss='binary_crossentropy',\n",
    "    metrics=[ tf.keras.metrics.AUC(),\n",
    "              'accuracy',\n",
    "    ]\n",
    ")\n",
    "\n",
    "history = model.fit(\n",
    "    X_train_pca.astype(np.float32), \n",
    "    y_train.astype(np.float32),\n",
    "    epochs=50,\n",
    "    batch_size=32,\n",
    "    validation_data=(X_cv_pca, y_cv),\n",
    "    verbose=0\n",
    ")\n",
    "\n",
    "y_pred = np.array(model.predict(X_cv_pca)>.5).squeeze().astype(int)\n",
    "metrics_={    \n",
    "    \"accuracy\":         metrics.accuracy_score(y_cv, y_pred),\n",
    "    \"precision\":        metrics.precision_score(y_cv, y_pred),\n",
    "    \"recall\":           metrics.recall_score(y_cv, y_pred),\n",
    "    \"f1_score\":         metrics.f1_score(y_cv, y_pred),\n",
    "    \"confusion_matrix\": metrics.confusion_matrix(y_cv, y_pred)\n",
    "}"
   ]
  },
  {
   "cell_type": "code",
   "execution_count": 10,
   "metadata": {},
   "outputs": [],
   "source": [
    "# Save\n",
    "open_file = open('./data/clf_list.pkl', \"wb\")\n",
    "pickle.dump(model_list, open_file)\n",
    "open_file.close()\n",
    "\n",
    "models_df.to_pickle('./data/clf_df.pkl')\n",
    "\n",
    "# # Load\n",
    "# open_file = open('./data/clf_list.pkl', \"rb\")\n",
    "# model_list = pickle.load(open_file)\n",
    "# open_file.close()\n",
    "\n",
    "# models_df = pd.read_pickle('./data/clf_df.pkl')"
   ]
  },
  {
   "cell_type": "code",
   "execution_count": 11,
   "metadata": {},
   "outputs": [
    {
     "name": "stdout",
     "output_type": "stream",
     "text": [
      "best accuracy =       0.75:\tRandomForestClassifier (features=RFE)\n",
      "best precision =       0.79:\tRandomForestClassifier (features=RFE)\n",
      "best recall =       1.00:\tSGDClassifier_log (features=PCA)\n",
      "best f1_score =       0.73:\tRandomForestClassifier (features=RFE)\n"
     ]
    }
   ],
   "source": [
    "metrics_list=[\"accuracy\",\"precision\",\"recall\",\"f1_score\"]\n",
    "for met in metrics_list:\n",
    "    idx = models_df[met].argmax()\n",
    "    name = models_df.iloc[idx][\"name\"] \n",
    "    features_selection = models_df.iloc[idx][\"features_selection\"]\n",
    "    value = models_df.iloc[idx][met]\n",
    "    print(\"best \"+str(met)+\" = \"+\"{:10.2f}\".format(value)+\":\\t\"+str(name)+\" (features=\"+str(features_selection)+\")\")"
   ]
  },
  {
   "cell_type": "markdown",
   "metadata": {},
   "source": [
    "# Final Test"
   ]
  },
  {
   "cell_type": "code",
   "execution_count": 12,
   "metadata": {},
   "outputs": [],
   "source": [
    "# # Load Data\n",
    "df_test_processed = pd.read_pickle('./data/df_test_processed.pkl')\n",
    "\n",
    "open_file = open('./data/df_param_dict.pkl', \"rb\")\n",
    "param_dict = pickle.load(open_file)\n",
    "open_file.close()\n",
    "\n",
    "open_file = open('./data/clf_pca.pkl', \"rb\")\n",
    "pca = pickle.load(open_file)\n",
    "open_file.close()\n",
    "open_file = open('./data/clf_rfe_cols.pkl', \"rb\")\n",
    "selected_cols = pickle.load(open_file)\n",
    "open_file.close()\n",
    "\n",
    "open_file = open('./data/clf_list.pkl', \"rb\")\n",
    "model_list = pickle.load(open_file)\n",
    "open_file.close()\n",
    "\n",
    "models_df = pd.read_pickle('./data/clf_df.pkl')"
   ]
  },
  {
   "cell_type": "code",
   "execution_count": 13,
   "metadata": {},
   "outputs": [
    {
     "name": "stdout",
     "output_type": "stream",
     "text": [
      "Best model: RandomForestClassifier (RFE)\n"
     ]
    }
   ],
   "source": [
    "# # Remove NaN (no needed)\n",
    "df_test_processed = df_test_processed[df_test_processed['Potability'].notna()]\n",
    "\n",
    "# # Split X, y\n",
    "X_test = df_test_processed.drop(['Potability'],axis=1)\n",
    "y_test = df_test_processed.Potability\n",
    "\n",
    "# # Select and print best_model\n",
    "print('Best model: '+str(models_df.iloc[models_df['f1_score'].argmax()]['name'])+ \" (\" \\\n",
    "    + str(models_df.iloc[models_df['f1_score'].argmax()]['features_selection'])+\")\")\n",
    "best_model = models_df.iloc[models_df['f1_score'].argmax()]['model']"
   ]
  },
  {
   "cell_type": "code",
   "execution_count": 14,
   "metadata": {},
   "outputs": [
    {
     "data": {
      "text/plain": [
       "{'accuracy': 0.4896551724137931,\n",
       " 'precision': 0.488,\n",
       " 'recall': 0.20819112627986347,\n",
       " 'f1_score': 0.29186602870813394,\n",
       " 'confusion_matrix': array([[223,  64],\n",
       "        [232,  61]])}"
      ]
     },
     "execution_count": 14,
     "metadata": {},
     "output_type": "execute_result"
    }
   ],
   "source": [
    "# Transform PCA\n",
    "# X_test_trf = pca.transform(X_test)\n",
    "\n",
    "# Transform RFE\n",
    "X_test_trf = X_test[selected_cols]\n",
    "\n",
    "# Predict\n",
    "y_pred = best_model.predict(X_test_trf)\n",
    "\n",
    "# Get metrics\n",
    "test_metrics={    \n",
    "    \"accuracy\":         metrics.accuracy_score(y_test, y_pred),\n",
    "    \"precision\":        metrics.precision_score(y_test, y_pred),\n",
    "    \"recall\":           metrics.recall_score(y_test, y_pred),\n",
    "    \"f1_score\":         metrics.f1_score(y_test, y_pred),\n",
    "    \"confusion_matrix\": metrics.confusion_matrix(y_test, y_pred)\n",
    "}\n",
    "\n",
    "test_metrics"
   ]
  },
  {
   "cell_type": "code",
   "execution_count": 15,
   "metadata": {},
   "outputs": [
    {
     "data": {
      "text/plain": [
       "<matplotlib.legend.Legend at 0x7f44a6292d30>"
      ]
     },
     "execution_count": 15,
     "metadata": {},
     "output_type": "execute_result"
    },
    {
     "data": {
      "image/png": "[encoded data removed]",
      "text/plain": [
       "<Figure size 1800x576 with 1 Axes>"
      ]
     },
     "metadata": {},
     "output_type": "display_data"
    }
   ],
   "source": [
    "TRUNC = 100 #-1: do not trunc\n",
    "x = np.linspace(0,y_test.shape[0]-1,y_test.shape[0])\n",
    "plt.figure(figsize=(25,8))\n",
    "plt.scatter(x[0:TRUNC],y_pred[0:TRUNC],color='red',alpha=.5, marker=8,s=60, label=\"y_test\")\n",
    "plt.scatter(x[0:TRUNC],y_test[0:TRUNC],color='blue',alpha=.5, marker=9,s=60, label=\"y_pred\")\n",
    "plt.legend()"
   ]
  },
  {
   "cell_type": "code",
   "execution_count": null,
   "metadata": {},
   "outputs": [],
   "source": []
  }
 ],
 "metadata": {
  "interpreter": {
   "hash": "b3ba2566441a7c06988d0923437866b63cedc61552a5af99d1f4fb67d367b25f"
  },
  "kernelspec": {
   "display_name": "Python 3.8.5 64-bit ('base': conda)",
   "name": "python3"
  },
  "language_info": {
   "codemirror_mode": {
    "name": "ipython",
    "version": 3
   },
   "file_extension": ".py",
   "mimetype": "text/x-python",
   "name": "python",
   "nbconvert_exporter": "python",
   "pygments_lexer": "ipython3",
   "version": "3.8.8"
  },
  "orig_nbformat": 4
 },
 "nbformat": 4,
 "nbformat_minor": 2
}
